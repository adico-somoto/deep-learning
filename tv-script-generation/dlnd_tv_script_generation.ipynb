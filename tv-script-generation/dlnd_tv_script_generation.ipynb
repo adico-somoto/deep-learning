{
 "cells": [
  {
   "cell_type": "markdown",
   "metadata": {
    "deletable": true,
    "editable": true
   },
   "source": [
    "# TV Script Generation\n",
    "In this project, you'll generate your own [Simpsons](https://en.wikipedia.org/wiki/The_Simpsons) TV scripts using RNNs.  You'll be using part of the [Simpsons dataset](https://www.kaggle.com/wcukierski/the-simpsons-by-the-data) of scripts from 27 seasons.  The Neural Network you'll build will generate a new TV script for a scene at [Moe's Tavern](https://simpsonswiki.com/wiki/Moe's_Tavern).\n",
    "## Get the Data\n",
    "The data is already provided for you.  You'll be using a subset of the original dataset.  It consists of only the scenes in Moe's Tavern.  This doesn't include other versions of the tavern, like \"Moe's Cavern\", \"Flaming Moe's\", \"Uncle Moe's Family Feed-Bag\", etc.."
   ]
  },
  {
   "cell_type": "code",
   "execution_count": 1,
   "metadata": {
    "collapsed": false,
    "deletable": true,
    "editable": true
   },
   "outputs": [],
   "source": [
    "\"\"\"\n",
    "DON'T MODIFY ANYTHING IN THIS CELL\n",
    "\"\"\"\n",
    "import helper\n",
    "\n",
    "data_dir = './data/simpsons/moes_tavern_lines.txt'\n",
    "text = helper.load_data(data_dir)\n",
    "# Ignore notice, since we don't use it for analysing the data\n",
    "text = text[81:]"
   ]
  },
  {
   "cell_type": "markdown",
   "metadata": {
    "deletable": true,
    "editable": true
   },
   "source": [
    "## Explore the Data\n",
    "Play around with `view_sentence_range` to view different parts of the data."
   ]
  },
  {
   "cell_type": "code",
   "execution_count": 2,
   "metadata": {
    "collapsed": false,
    "deletable": true,
    "editable": true
   },
   "outputs": [
    {
     "name": "stdout",
     "output_type": "stream",
     "text": [
      "Dataset Stats\n",
      "Roughly the number of unique words: 11492\n",
      "Number of scenes: 262\n",
      "Average number of sentences in each scene: 15.248091603053435\n",
      "Number of lines: 4257\n",
      "Average number of words in each line: 11.50434578341555\n",
      "\n",
      "The sentences 0 to 10:\n",
      "Moe_Szyslak: (INTO PHONE) Moe's Tavern. Where the elite meet to drink.\n",
      "Bart_Simpson: Eh, yeah, hello, is Mike there? Last name, Rotch.\n",
      "Moe_Szyslak: (INTO PHONE) Hold on, I'll check. (TO BARFLIES) Mike Rotch. Mike Rotch. Hey, has anybody seen Mike Rotch, lately?\n",
      "Moe_Szyslak: (INTO PHONE) Listen you little puke. One of these days I'm gonna catch you, and I'm gonna carve my name on your back with an ice pick.\n",
      "Moe_Szyslak: What's the matter Homer? You're not your normal effervescent self.\n",
      "Homer_Simpson: I got my problems, Moe. Give me another one.\n",
      "Moe_Szyslak: Homer, hey, you should not drink to forget your problems.\n",
      "Barney_Gumble: Yeah, you should only drink to enhance your social skills.\n",
      "\n",
      "\n"
     ]
    }
   ],
   "source": [
    "view_sentence_range = (0, 10)\n",
    "\n",
    "\"\"\"\n",
    "DON'T MODIFY ANYTHING IN THIS CELL\n",
    "\"\"\"\n",
    "import numpy as np\n",
    "\n",
    "print('Dataset Stats')\n",
    "print('Roughly the number of unique words: {}'.format(len({word: None for word in text.split()})))\n",
    "scenes = text.split('\\n\\n')\n",
    "print('Number of scenes: {}'.format(len(scenes)))\n",
    "sentence_count_scene = [scene.count('\\n') for scene in scenes]\n",
    "print('Average number of sentences in each scene: {}'.format(np.average(sentence_count_scene)))\n",
    "\n",
    "sentences = [sentence for scene in scenes for sentence in scene.split('\\n')]\n",
    "print('Number of lines: {}'.format(len(sentences)))\n",
    "word_count_sentence = [len(sentence.split()) for sentence in sentences]\n",
    "print('Average number of words in each line: {}'.format(np.average(word_count_sentence)))\n",
    "\n",
    "print()\n",
    "print('The sentences {} to {}:'.format(*view_sentence_range))\n",
    "print('\\n'.join(text.split('\\n')[view_sentence_range[0]:view_sentence_range[1]]))"
   ]
  },
  {
   "cell_type": "markdown",
   "metadata": {
    "deletable": true,
    "editable": true
   },
   "source": [
    "## Implement Preprocessing Functions\n",
    "The first thing to do to any dataset is preprocessing.  Implement the following preprocessing functions below:\n",
    "- Lookup Table\n",
    "- Tokenize Punctuation\n",
    "\n",
    "### Lookup Table\n",
    "To create a word embedding, you first need to transform the words to ids.  In this function, create two dictionaries:\n",
    "- Dictionary to go from the words to an id, we'll call `vocab_to_int`\n",
    "- Dictionary to go from the id to word, we'll call `int_to_vocab`\n",
    "\n",
    "Return these dictionaries in the following tuple `(vocab_to_int, int_to_vocab)`"
   ]
  },
  {
   "cell_type": "code",
   "execution_count": 1,
   "metadata": {
    "collapsed": false,
    "deletable": true,
    "editable": true
   },
   "outputs": [
    {
     "name": "stdout",
     "output_type": "stream",
     "text": [
      "Tests Passed\n"
     ]
    }
   ],
   "source": [
    "import numpy as np\n",
    "import problem_unittests as tests\n",
    "\n",
    "def create_lookup_tables(text):\n",
    "    \"\"\"\n",
    "    Create lookup tables for vocabulary\n",
    "    :param text: The text of tv scripts split into words\n",
    "    :return: A tuple of dicts (vocab_to_int, int_to_vocab)\n",
    "    \"\"\"\n",
    "    splt_text = set(text)\n",
    "    vocab_to_int = {word:ii for ii,word in enumerate(splt_text)}\n",
    "    int_to_vocab = {ii:word for ii,word in enumerate(splt_text)}\n",
    "    \n",
    "    # TODO: Implement Function\n",
    "    return vocab_to_int, int_to_vocab\n",
    "\n",
    "\n",
    "\"\"\"\n",
    "DON'T MODIFY ANYTHING IN THIS CELL THAT IS BELOW THIS LINE\n",
    "\"\"\"\n",
    "tests.test_create_lookup_tables(create_lookup_tables)"
   ]
  },
  {
   "cell_type": "markdown",
   "metadata": {
    "deletable": true,
    "editable": true
   },
   "source": [
    "### Tokenize Punctuation\n",
    "We'll be splitting the script into a word array using spaces as delimiters.  However, punctuations like periods and exclamation marks make it hard for the neural network to distinguish between the word \"bye\" and \"bye!\".\n",
    "\n",
    "Implement the function `token_lookup` to return a dict that will be used to tokenize symbols like \"!\" into \"||Exclamation_Mark||\".  Create a dictionary for the following symbols where the symbol is the key and value is the token:\n",
    "- Period ( . )\n",
    "- Comma ( , )\n",
    "- Quotation Mark ( \" )\n",
    "- Semicolon ( ; )\n",
    "- Exclamation mark ( ! )\n",
    "- Question mark ( ? )\n",
    "- Left Parentheses ( ( )\n",
    "- Right Parentheses ( ) )\n",
    "- Dash ( -- )\n",
    "- Return ( \\n )\n",
    "\n",
    "This dictionary will be used to token the symbols and add the delimiter (space) around it.  This separates the symbols as it's own word, making it easier for the neural network to predict on the next word. Make sure you don't use a token that could be confused as a word. Instead of using the token \"dash\", try using something like \"||dash||\"."
   ]
  },
  {
   "cell_type": "code",
   "execution_count": 2,
   "metadata": {
    "collapsed": false,
    "deletable": true,
    "editable": true
   },
   "outputs": [],
   "source": [
    "punctuationsMap = {'.':'||period||',',':'||comma||','\"':'||quote||',';':'||semicol||','!':'||exlam||','?':'||question||','(':'||left_par||',')':'||right_par||','--':'||dash||','\\n':'||return||'}"
   ]
  },
  {
   "cell_type": "code",
   "execution_count": 3,
   "metadata": {
    "collapsed": false,
    "deletable": true,
    "editable": true
   },
   "outputs": [
    {
     "name": "stdout",
     "output_type": "stream",
     "text": [
      "Tests Passed\n"
     ]
    }
   ],
   "source": [
    "def token_lookup():\n",
    "    \"\"\"\n",
    "    Generate a dict to turn punctuation into a token.\n",
    "    :return: Tokenize dictionary where the key is the punctuation and the value is the token\n",
    "    \"\"\"\n",
    "    # TODO: Implement Function\n",
    "    return punctuationsMap\n",
    "\n",
    "\"\"\"\n",
    "DON'T MODIFY ANYTHING IN THIS CELL THAT IS BELOW THIS LINE\n",
    "\"\"\"\n",
    "tests.test_tokenize(token_lookup)"
   ]
  },
  {
   "cell_type": "markdown",
   "metadata": {
    "deletable": true,
    "editable": true
   },
   "source": [
    "## Preprocess all the data and save it\n",
    "Running the code cell below will preprocess all the data and save it to file."
   ]
  },
  {
   "cell_type": "code",
   "execution_count": 12,
   "metadata": {
    "collapsed": false,
    "deletable": true,
    "editable": true
   },
   "outputs": [],
   "source": [
    "\"\"\"\n",
    "DON'T MODIFY ANYTHING IN THIS CELL\n",
    "\"\"\"\n",
    "# Preprocess Training, Validation, and Testing Data\n",
    "helper.preprocess_and_save_data(data_dir, token_lookup, create_lookup_tables)"
   ]
  },
  {
   "cell_type": "markdown",
   "metadata": {
    "deletable": true,
    "editable": true
   },
   "source": [
    "# Check Point\n",
    "This is your first checkpoint. If you ever decide to come back to this notebook or have to restart the notebook, you can start from here. The preprocessed data has been saved to disk."
   ]
  },
  {
   "cell_type": "code",
   "execution_count": 4,
   "metadata": {
    "collapsed": false,
    "deletable": true,
    "editable": true
   },
   "outputs": [],
   "source": [
    "\"\"\"\n",
    "DON'T MODIFY ANYTHING IN THIS CELL\n",
    "\"\"\"\n",
    "import helper\n",
    "import numpy as np\n",
    "import problem_unittests as tests\n",
    "\n",
    "int_text, vocab_to_int, int_to_vocab, token_dict = helper.load_preprocess()"
   ]
  },
  {
   "cell_type": "markdown",
   "metadata": {
    "deletable": true,
    "editable": true
   },
   "source": [
    "## Build the Neural Network\n",
    "You'll build the components necessary to build a RNN by implementing the following functions below:\n",
    "- get_inputs\n",
    "- get_init_cell\n",
    "- get_embed\n",
    "- build_rnn\n",
    "- build_nn\n",
    "- get_batches\n",
    "\n",
    "### Check the Version of TensorFlow and Access to GPU"
   ]
  },
  {
   "cell_type": "code",
   "execution_count": 5,
   "metadata": {
    "collapsed": false,
    "deletable": true,
    "editable": true
   },
   "outputs": [
    {
     "name": "stdout",
     "output_type": "stream",
     "text": [
      "TensorFlow Version: 1.0.1\n"
     ]
    },
    {
     "name": "stderr",
     "output_type": "stream",
     "text": [
      "/Users/adi/anaconda/envs/dlnd-tf-lab/lib/python3.5/site-packages/ipykernel/__main__.py:14: UserWarning: No GPU found. Please use a GPU to train your neural network.\n"
     ]
    }
   ],
   "source": [
    "\"\"\"\n",
    "DON'T MODIFY ANYTHING IN THIS CELL\n",
    "\"\"\"\n",
    "from distutils.version import LooseVersion\n",
    "import warnings\n",
    "import tensorflow as tf\n",
    "\n",
    "# Check TensorFlow Version\n",
    "assert LooseVersion(tf.__version__) >= LooseVersion('1.0'), 'Please use TensorFlow version 1.0 or newer'\n",
    "print('TensorFlow Version: {}'.format(tf.__version__))\n",
    "\n",
    "# Check for a GPU\n",
    "if not tf.test.gpu_device_name():\n",
    "    warnings.warn('No GPU found. Please use a GPU to train your neural network.')\n",
    "else:\n",
    "    print('Default GPU Device: {}'.format(tf.test.gpu_device_name()))"
   ]
  },
  {
   "cell_type": "markdown",
   "metadata": {
    "deletable": true,
    "editable": true
   },
   "source": [
    "### Input\n",
    "Implement the `get_inputs()` function to create TF Placeholders for the Neural Network.  It should create the following placeholders:\n",
    "- Input text placeholder named \"input\" using the [TF Placeholder](https://www.tensorflow.org/api_docs/python/tf/placeholder) `name` parameter.\n",
    "- Targets placeholder\n",
    "- Learning Rate placeholder\n",
    "\n",
    "Return the placeholders in the following tuple `(Input, Targets, LearningRate)`"
   ]
  },
  {
   "cell_type": "code",
   "execution_count": 6,
   "metadata": {
    "collapsed": false,
    "deletable": true,
    "editable": true
   },
   "outputs": [
    {
     "name": "stdout",
     "output_type": "stream",
     "text": [
      "Tests Passed\n"
     ]
    }
   ],
   "source": [
    "def get_inputs():\n",
    "    \"\"\"\n",
    "    Create TF Placeholders for input, targets, and learning rate.\n",
    "    :return: Tuple (input, targets, learning rate)\n",
    "    \"\"\"\n",
    "    # TODO: Implement Function\n",
    "    input_ = tf.placeholder(tf.int32, [None,None], name='input') \n",
    "    targets_ = tf.placeholder(tf.int32, [None,None]) \n",
    "    learning_rate_ = tf.placeholder(tf.float32)\n",
    "    return input_, targets_, learning_rate_\n",
    "\n",
    "\"\"\"\n",
    "DON'T MODIFY ANYTHING IN THIS CELL THAT IS BELOW THIS LINE\n",
    "\"\"\"\n",
    "tests.test_get_inputs(get_inputs)"
   ]
  },
  {
   "cell_type": "markdown",
   "metadata": {
    "deletable": true,
    "editable": true
   },
   "source": [
    "### Build RNN Cell and Initialize\n",
    "Stack one or more [`BasicLSTMCells`](https://www.tensorflow.org/api_docs/python/tf/contrib/rnn/BasicLSTMCell) in a [`MultiRNNCell`](https://www.tensorflow.org/api_docs/python/tf/contrib/rnn/MultiRNNCell).\n",
    "- The Rnn size should be set using `rnn_size`\n",
    "- Initalize Cell State using the MultiRNNCell's [`zero_state()`](https://www.tensorflow.org/api_docs/python/tf/contrib/rnn/MultiRNNCell#zero_state) function\n",
    "    - Apply the name \"initial_state\" to the initial state using [`tf.identity()`](https://www.tensorflow.org/api_docs/python/tf/identity)\n",
    "\n",
    "Return the cell and initial state in the following tuple `(Cell, InitialState)`"
   ]
  },
  {
   "cell_type": "code",
   "execution_count": 7,
   "metadata": {
    "collapsed": false,
    "deletable": true,
    "editable": true
   },
   "outputs": [
    {
     "name": "stdout",
     "output_type": "stream",
     "text": [
      "Tests Passed\n"
     ]
    }
   ],
   "source": [
    "def get_init_cell(batch_size, rnn_size):\n",
    "    \"\"\"\n",
    "    Create an RNN Cell and initialize it.\n",
    "    :param batch_size: Size of batches\n",
    "    :param rnn_size: Size of RNNs\n",
    "    :return: Tuple (cell, initialize state)\n",
    "    \"\"\"\n",
    "    # Your basic LSTM cell\n",
    "    lstm = tf.contrib.rnn.BasicLSTMCell(rnn_size)\n",
    "    \n",
    "    # Add dropout to the cell\n",
    "    #drop = tf.contrib.rnn.DropoutWrapper(lstm, output_keep_prob=keep_prob)\n",
    "    \n",
    "    # Stack up multiple LSTM layers, for deep learning\n",
    "    cell = tf.contrib.rnn.MultiRNNCell([lstm] * 1)\n",
    "    \n",
    "    # Getting an initial state of all zeros\n",
    "    initial_state = cell.zero_state(batch_size, tf.float32)\n",
    "    initial_state = tf.identity(initial_state, 'initial_state')\n",
    "    return cell, initial_state\n",
    "\n",
    "\n",
    "\"\"\"\n",
    "DON'T MODIFY ANYTHING IN THIS CELL THAT IS BELOW THIS LINE\n",
    "\"\"\"\n",
    "tests.test_get_init_cell(get_init_cell)"
   ]
  },
  {
   "cell_type": "markdown",
   "metadata": {
    "deletable": true,
    "editable": true
   },
   "source": [
    "### Word Embedding\n",
    "Apply embedding to `input_data` using TensorFlow.  Return the embedded sequence."
   ]
  },
  {
   "cell_type": "code",
   "execution_count": 8,
   "metadata": {
    "collapsed": false,
    "deletable": true,
    "editable": true
   },
   "outputs": [
    {
     "name": "stdout",
     "output_type": "stream",
     "text": [
      "Tests Passed\n"
     ]
    }
   ],
   "source": [
    "def get_embed(input_data, vocab_size, embed_dim):\n",
    "    \"\"\"\n",
    "    Create embedding for <input_data>.\n",
    "    :param input_data: TF placeholder for text input.\n",
    "    :param vocab_size: Number of words in vocabulary.\n",
    "    :param embed_dim: Number of embedding dimensions\n",
    "    :return: Embedded input.\n",
    "    \"\"\"\n",
    "    embedding = tf.Variable(tf.random_uniform((vocab_size, embed_dim), -1, 1))\n",
    "    embed = tf.nn.embedding_lookup(embedding, input_data)\n",
    "    # TODO: Implement Function\n",
    "    return embed\n",
    "\n",
    "\n",
    "\"\"\"\n",
    "DON'T MODIFY ANYTHING IN THIS CELL THAT IS BELOW THIS LINE\n",
    "\"\"\"\n",
    "tests.test_get_embed(get_embed)"
   ]
  },
  {
   "cell_type": "markdown",
   "metadata": {
    "deletable": true,
    "editable": true
   },
   "source": [
    "### Build RNN\n",
    "You created a RNN Cell in the `get_init_cell()` function.  Time to use the cell to create a RNN.\n",
    "- Build the RNN using the [`tf.nn.dynamic_rnn()`](https://www.tensorflow.org/api_docs/python/tf/nn/dynamic_rnn)\n",
    " - Apply the name \"final_state\" to the final state using [`tf.identity()`](https://www.tensorflow.org/api_docs/python/tf/identity)\n",
    "\n",
    "Return the outputs and final_state state in the following tuple `(Outputs, FinalState)` "
   ]
  },
  {
   "cell_type": "code",
   "execution_count": 9,
   "metadata": {
    "collapsed": false,
    "deletable": true,
    "editable": true
   },
   "outputs": [
    {
     "name": "stdout",
     "output_type": "stream",
     "text": [
      "Tests Passed\n"
     ]
    }
   ],
   "source": [
    "def build_rnn(cell, inputs):\n",
    "    \"\"\"\n",
    "    Create a RNN using a RNN Cell\n",
    "    :param cell: RNN Cell\n",
    "    :param inputs: Input text data\n",
    "    :return: Tuple (Outputs, Final State)\n",
    "    \"\"\"\n",
    "    # TODO: Implement Function\n",
    "    outputs, final_state = tf.nn.dynamic_rnn(cell, inputs,dtype=tf.float32)\n",
    "    final_state = tf.identity(final_state, 'final_state')\n",
    "    return outputs, final_state\n",
    "\n",
    "\n",
    "\"\"\"\n",
    "DON'T MODIFY ANYTHING IN THIS CELL THAT IS BELOW THIS LINE\n",
    "\"\"\"\n",
    "tests.test_build_rnn(build_rnn)"
   ]
  },
  {
   "cell_type": "markdown",
   "metadata": {
    "deletable": true,
    "editable": true
   },
   "source": [
    "### Build the Neural Network\n",
    "Apply the functions you implemented above to:\n",
    "- Apply embedding to `input_data` using your `get_embed(input_data, vocab_size, embed_dim)` function.\n",
    "- Build RNN using `cell` and your `build_rnn(cell, inputs)` function.\n",
    "- Apply a fully connected layer with a linear activation and `vocab_size` as the number of outputs.\n",
    "\n",
    "Return the logits and final state in the following tuple (Logits, FinalState) "
   ]
  },
  {
   "cell_type": "code",
   "execution_count": 10,
   "metadata": {
    "collapsed": false,
    "deletable": true,
    "editable": true
   },
   "outputs": [
    {
     "name": "stdout",
     "output_type": "stream",
     "text": [
      "Tests Passed\n"
     ]
    }
   ],
   "source": [
    "def build_nn(cell, rnn_size, input_data, vocab_size, embed_dim):\n",
    "    \"\"\"\n",
    "    Build part of the neural network\n",
    "    :param cell: RNN cell\n",
    "    :param rnn_size: Size of rnns\n",
    "    :param input_data: Input data\n",
    "    :param vocab_size: Vocabulary size\n",
    "    :param embed_dim: Number of embedding dimensions\n",
    "    :return: Tuple (Logits, FinalState)\n",
    "    \"\"\"\n",
    "    # TODO: Implement Function\n",
    "    inputs = get_embed(input_data, vocab_size, embed_dim)\n",
    "    outputs, final_state = build_rnn(cell, inputs)\n",
    "    \n",
    "    outputs = tf.contrib.layers.fully_connected(outputs, vocab_size, activation_fn=None)\n",
    "    return outputs, final_state\n",
    "\n",
    "\n",
    "\"\"\"\n",
    "DON'T MODIFY ANYTHING IN THIS CELL THAT IS BELOW THIS LINE\n",
    "\"\"\"\n",
    "tests.test_build_nn(build_nn)"
   ]
  },
  {
   "cell_type": "markdown",
   "metadata": {
    "deletable": true,
    "editable": true
   },
   "source": [
    "### Batches\n",
    "Implement `get_batches` to create batches of input and targets using `int_text`.  The batches should be a Numpy array with the shape `(number of batches, 2, batch size, sequence length)`. Each batch contains two elements:\n",
    "- The first element is a single batch of **input** with the shape `[batch size, sequence length]`\n",
    "- The second element is a single batch of **targets** with the shape `[batch size, sequence length]`\n",
    "\n",
    "If you can't fill the last batch with enough data, drop the last batch.\n",
    "\n",
    "For exmple, `get_batches([1, 2, 3, 4, 5, 6, 7, 8, 9, 10, 11, 12, 13, 14, 15], 2, 3)` would return a Numpy array of the following:\n",
    "```\n",
    "[\n",
    "  # First Batch\n",
    "  [\n",
    "    # Batch of Input\n",
    "    [[ 1  2  3], [ 7  8  9]],\n",
    "    # Batch of targets\n",
    "    [[ 2  3  4], [ 8  9 10]]\n",
    "  ],\n",
    " \n",
    "  # Second Batch\n",
    "  [\n",
    "    # Batch of Input\n",
    "    [[ 4  5  6], [10 11 12]],\n",
    "    # Batch of targets\n",
    "    [[ 5  6  7], [11 12 13]]\n",
    "  ]\n",
    "]\n",
    "```"
   ]
  },
  {
   "cell_type": "code",
   "execution_count": 89,
   "metadata": {
    "collapsed": false,
    "deletable": true,
    "editable": true
   },
   "outputs": [
    {
     "name": "stdout",
     "output_type": "stream",
     "text": [
      "Tests Passed\n"
     ]
    }
   ],
   "source": [
    "def get_batches(int_text, batch_size, seq_length):\n",
    "    \"\"\"\n",
    "    Return batches of input and target\n",
    "    :param int_text: Text with the words replaced by their ids\n",
    "    :param batch_size: The size of batch\n",
    "    :param seq_length: The length of sequence\n",
    "    :return: Batches as a Numpy array\n",
    "    \"\"\"\n",
    "    # TODO: Implement Function\n",
    "    # Get the number of characters per batch and number of batches we can make\n",
    "    #print('len(int_text): ',len(int_text))\n",
    "    #print('batch_size: ',batch_size)\n",
    "    #print('seq_length: ',seq_length)\n",
    "    n_steps = batch_size * seq_length\n",
    "    #print('n_steps: ',n_steps)\n",
    "    n_batches = len(int_text)//n_steps\n",
    "    #print('n_batches: ',n_batches)\n",
    "    \n",
    "    # Keep only enough characters to make full batches\n",
    "    arr = np.array(int_text[:(n_steps*n_batches)+1])\n",
    "    \n",
    "    retarr = np.zeros([n_batches, 2, batch_size, seq_length],np.int32)\n",
    "    #print(retarr)\n",
    "    for batch_idx in range(n_batches): #7\n",
    "        #print('batch_idx: ', batch_idx)\n",
    "        # The features\n",
    "        curr_pos = batch_idx*n_steps\n",
    "        x = arr[curr_pos : curr_pos+n_steps].reshape(batch_size,seq_length)\n",
    "        # The targets, shifted by one\n",
    "        y = arr[curr_pos+1 : curr_pos+n_steps+1].reshape(batch_size,seq_length)\n",
    "\n",
    "        retarr[batch_idx,0] = x\n",
    "        retarr[batch_idx,1] = y\n",
    "        \n",
    "    #print(retarr)\n",
    "    return retarr\n",
    "\n",
    "\"\"\"\n",
    "DON'T MODIFY ANYTHING IN THIS CELL THAT IS BELOW THIS LINE\n",
    "\"\"\"\n",
    "tests.test_get_batches(get_batches)"
   ]
  },
  {
   "cell_type": "markdown",
   "metadata": {
    "deletable": true,
    "editable": true
   },
   "source": [
    "## Neural Network Training\n",
    "### Hyperparameters\n",
    "Tune the following parameters:\n",
    "\n",
    "- Set `num_epochs` to the number of epochs.\n",
    "- Set `batch_size` to the batch size.\n",
    "- Set `rnn_size` to the size of the RNNs.\n",
    "- Set `embed_dim` to the size of the embedding.\n",
    "- Set `seq_length` to the length of sequence.\n",
    "- Set `learning_rate` to the learning rate.\n",
    "- Set `show_every_n_batches` to the number of batches the neural network should print progress."
   ]
  },
  {
   "cell_type": "code",
   "execution_count": 98,
   "metadata": {
    "collapsed": true,
    "deletable": true,
    "editable": true
   },
   "outputs": [],
   "source": [
    "# Number of Epochs\n",
    "num_epochs = 30\n",
    "# Batch Size\n",
    "batch_size = 512\n",
    "# RNN Size\n",
    "rnn_size = 512\n",
    "# Embedding Dimension Size\n",
    "embed_dim = 300\n",
    "# Sequence Length\n",
    "seq_length = 15\n",
    "# Learning Rate\n",
    "learning_rate = 0.01\n",
    "# Show stats for every n number of batches\n",
    "show_every_n_batches = 1\n",
    "\n",
    "\"\"\"\n",
    "DON'T MODIFY ANYTHING IN THIS CELL THAT IS BELOW THIS LINE\n",
    "\"\"\"\n",
    "save_dir = './save'"
   ]
  },
  {
   "cell_type": "markdown",
   "metadata": {
    "deletable": true,
    "editable": true
   },
   "source": [
    "### Build the Graph\n",
    "Build the graph using the neural network you implemented."
   ]
  },
  {
   "cell_type": "code",
   "execution_count": 99,
   "metadata": {
    "collapsed": false,
    "deletable": true,
    "editable": true
   },
   "outputs": [],
   "source": [
    "\"\"\"\n",
    "DON'T MODIFY ANYTHING IN THIS CELL\n",
    "\"\"\"\n",
    "from tensorflow.contrib import seq2seq\n",
    "\n",
    "train_graph = tf.Graph()\n",
    "with train_graph.as_default():\n",
    "    vocab_size = len(int_to_vocab)\n",
    "    input_text, targets, lr = get_inputs()\n",
    "    input_data_shape = tf.shape(input_text)\n",
    "    cell, initial_state = get_init_cell(input_data_shape[0], rnn_size)\n",
    "    logits, final_state = build_nn(cell, rnn_size, input_text, vocab_size, embed_dim)\n",
    "\n",
    "    # Probabilities for generating words\n",
    "    probs = tf.nn.softmax(logits, name='probs')\n",
    "\n",
    "    # Loss function\n",
    "    cost = seq2seq.sequence_loss(\n",
    "        logits,\n",
    "        targets,\n",
    "        tf.ones([input_data_shape[0], input_data_shape[1]]))\n",
    "\n",
    "    # Optimizer\n",
    "    optimizer = tf.train.AdamOptimizer(lr)\n",
    "\n",
    "    # Gradient Clipping\n",
    "    gradients = optimizer.compute_gradients(cost)\n",
    "    capped_gradients = [(tf.clip_by_value(grad, -1., 1.), var) for grad, var in gradients if grad is not None]\n",
    "    train_op = optimizer.apply_gradients(capped_gradients)"
   ]
  },
  {
   "cell_type": "markdown",
   "metadata": {
    "deletable": true,
    "editable": true
   },
   "source": [
    "## Train\n",
    "Train the neural network on the preprocessed data.  If you have a hard time getting a good loss, check the [forms](https://discussions.udacity.com/) to see if anyone is having the same problem."
   ]
  },
  {
   "cell_type": "code",
   "execution_count": 100,
   "metadata": {
    "collapsed": false,
    "deletable": true,
    "editable": true
   },
   "outputs": [
    {
     "name": "stdout",
     "output_type": "stream",
     "text": [
      "Epoch   0 Batch    0/8   train_loss = 8.828372955\n",
      "Epoch   0 Batch    1/8   train_loss = 8.386574745\n",
      "Epoch   0 Batch    2/8   train_loss = 6.713299751\n",
      "Epoch   0 Batch    3/8   train_loss = 6.424065590\n",
      "Epoch   0 Batch    4/8   train_loss = 6.487967968\n",
      "Epoch   0 Batch    5/8   train_loss = 6.311384201\n",
      "Epoch   0 Batch    6/8   train_loss = 6.288983822\n",
      "Epoch   0 Batch    7/8   train_loss = 6.191411972\n",
      "Epoch   1 Batch    0/8   train_loss = 5.848532200\n",
      "Epoch   1 Batch    1/8   train_loss = 5.758259296\n",
      "Epoch   1 Batch    2/8   train_loss = 5.591996193\n",
      "Epoch   1 Batch    3/8   train_loss = 5.332102776\n",
      "Epoch   1 Batch    4/8   train_loss = 5.388245583\n",
      "Epoch   1 Batch    5/8   train_loss = 5.393406391\n",
      "Epoch   1 Batch    6/8   train_loss = 5.393761635\n",
      "Epoch   1 Batch    7/8   train_loss = 5.356045723\n",
      "Epoch   2 Batch    0/8   train_loss = 5.045717716\n",
      "Epoch   2 Batch    1/8   train_loss = 5.003919125\n",
      "Epoch   2 Batch    2/8   train_loss = 5.051287174\n",
      "Epoch   2 Batch    3/8   train_loss = 4.835722923\n",
      "Epoch   2 Batch    4/8   train_loss = 4.894614220\n",
      "Epoch   2 Batch    5/8   train_loss = 4.895124912\n",
      "Epoch   2 Batch    6/8   train_loss = 4.914330006\n",
      "Epoch   2 Batch    7/8   train_loss = 4.868660927\n",
      "Epoch   3 Batch    0/8   train_loss = 4.582139969\n",
      "Epoch   3 Batch    1/8   train_loss = 4.561491013\n",
      "Epoch   3 Batch    2/8   train_loss = 4.577723026\n",
      "Epoch   3 Batch    3/8   train_loss = 4.431864738\n",
      "Epoch   3 Batch    4/8   train_loss = 4.493989944\n",
      "Epoch   3 Batch    5/8   train_loss = 4.502200603\n",
      "Epoch   3 Batch    6/8   train_loss = 4.518275738\n",
      "Epoch   3 Batch    7/8   train_loss = 4.472672462\n",
      "Epoch   4 Batch    0/8   train_loss = 4.200514317\n",
      "Epoch   4 Batch    1/8   train_loss = 4.212911129\n",
      "Epoch   4 Batch    2/8   train_loss = 4.203341484\n",
      "Epoch   4 Batch    3/8   train_loss = 4.083889961\n",
      "Epoch   4 Batch    4/8   train_loss = 4.118310452\n",
      "Epoch   4 Batch    5/8   train_loss = 4.127348423\n",
      "Epoch   4 Batch    6/8   train_loss = 4.149449348\n",
      "Epoch   4 Batch    7/8   train_loss = 4.108518124\n",
      "Epoch   5 Batch    0/8   train_loss = 3.825457811\n",
      "Epoch   5 Batch    1/8   train_loss = 3.867383718\n",
      "Epoch   5 Batch    2/8   train_loss = 3.853391409\n",
      "Epoch   5 Batch    3/8   train_loss = 3.767089128\n",
      "Epoch   5 Batch    4/8   train_loss = 3.789342165\n",
      "Epoch   5 Batch    5/8   train_loss = 3.771789789\n",
      "Epoch   5 Batch    6/8   train_loss = 3.767803669\n",
      "Epoch   5 Batch    7/8   train_loss = 3.719668627\n",
      "Epoch   6 Batch    0/8   train_loss = 3.504233360\n",
      "Epoch   6 Batch    1/8   train_loss = 3.519760370\n",
      "Epoch   6 Batch    2/8   train_loss = 3.525335073\n",
      "Epoch   6 Batch    3/8   train_loss = 3.462182522\n",
      "Epoch   6 Batch    4/8   train_loss = 3.487270355\n",
      "Epoch   6 Batch    5/8   train_loss = 3.472338438\n",
      "Epoch   6 Batch    6/8   train_loss = 3.456066847\n",
      "Epoch   6 Batch    7/8   train_loss = 3.394825220\n",
      "Epoch   7 Batch    0/8   train_loss = 3.202907324\n",
      "Epoch   7 Batch    1/8   train_loss = 3.253251076\n",
      "Epoch   7 Batch    2/8   train_loss = 3.242049694\n",
      "Epoch   7 Batch    3/8   train_loss = 3.205704689\n",
      "Epoch   7 Batch    4/8   train_loss = 3.217289686\n",
      "Epoch   7 Batch    5/8   train_loss = 3.189094067\n",
      "Epoch   7 Batch    6/8   train_loss = 3.186843872\n",
      "Epoch   7 Batch    7/8   train_loss = 3.126140356\n",
      "Epoch   8 Batch    0/8   train_loss = 2.972296238\n",
      "Epoch   8 Batch    1/8   train_loss = 3.021844149\n",
      "Epoch   8 Batch    2/8   train_loss = 2.989658117\n",
      "Epoch   8 Batch    3/8   train_loss = 2.992813587\n",
      "Epoch   8 Batch    4/8   train_loss = 2.986705303\n",
      "Epoch   8 Batch    5/8   train_loss = 2.924965858\n",
      "Epoch   8 Batch    6/8   train_loss = 2.939917088\n",
      "Epoch   8 Batch    7/8   train_loss = 2.900050163\n",
      "Epoch   9 Batch    0/8   train_loss = 2.768613577\n",
      "Epoch   9 Batch    1/8   train_loss = 2.793083429\n",
      "Epoch   9 Batch    2/8   train_loss = 2.751186132\n",
      "Epoch   9 Batch    3/8   train_loss = 2.757612944\n",
      "Epoch   9 Batch    4/8   train_loss = 2.750753164\n",
      "Epoch   9 Batch    5/8   train_loss = 2.728871107\n",
      "Epoch   9 Batch    6/8   train_loss = 2.706582785\n",
      "Epoch   9 Batch    7/8   train_loss = 2.636829138\n",
      "Epoch  10 Batch    0/8   train_loss = 2.545655489\n",
      "Epoch  10 Batch    1/8   train_loss = 2.573896170\n",
      "Epoch  10 Batch    2/8   train_loss = 2.560003042\n",
      "Epoch  10 Batch    3/8   train_loss = 2.535649300\n",
      "Epoch  10 Batch    4/8   train_loss = 2.502620935\n",
      "Epoch  10 Batch    5/8   train_loss = 2.450784445\n",
      "Epoch  10 Batch    6/8   train_loss = 2.452543736\n",
      "Epoch  10 Batch    7/8   train_loss = 2.403737307\n",
      "Epoch  11 Batch    0/8   train_loss = 2.368413687\n",
      "Epoch  11 Batch    1/8   train_loss = 2.375058889\n",
      "Epoch  11 Batch    2/8   train_loss = 2.348413706\n",
      "Epoch  11 Batch    3/8   train_loss = 2.324185133\n",
      "Epoch  11 Batch    4/8   train_loss = 2.247664452\n",
      "Epoch  11 Batch    5/8   train_loss = 2.219466686\n",
      "Epoch  11 Batch    6/8   train_loss = 2.254543066\n",
      "Epoch  11 Batch    7/8   train_loss = 2.194337130\n",
      "Epoch  12 Batch    0/8   train_loss = 2.127627611\n",
      "Epoch  12 Batch    1/8   train_loss = 2.148825407\n",
      "Epoch  12 Batch    2/8   train_loss = 2.161926746\n",
      "Epoch  12 Batch    3/8   train_loss = 2.183792591\n",
      "Epoch  12 Batch    4/8   train_loss = 2.111814022\n",
      "Epoch  12 Batch    5/8   train_loss = 1.994756579\n",
      "Epoch  12 Batch    6/8   train_loss = 1.974650979\n",
      "Epoch  12 Batch    7/8   train_loss = 1.983493805\n",
      "Epoch  13 Batch    0/8   train_loss = 2.013735771\n",
      "Epoch  13 Batch    1/8   train_loss = 2.032304049\n",
      "Epoch  13 Batch    2/8   train_loss = 1.978689432\n",
      "Epoch  13 Batch    3/8   train_loss = 1.964334011\n",
      "Epoch  13 Batch    4/8   train_loss = 1.884101391\n",
      "Epoch  13 Batch    5/8   train_loss = 1.846259236\n",
      "Epoch  13 Batch    6/8   train_loss = 1.861962199\n",
      "Epoch  13 Batch    7/8   train_loss = 1.779855609\n",
      "Epoch  14 Batch    0/8   train_loss = 1.786837697\n",
      "Epoch  14 Batch    1/8   train_loss = 1.797050238\n",
      "Epoch  14 Batch    2/8   train_loss = 1.804095030\n",
      "Epoch  14 Batch    3/8   train_loss = 1.833008289\n",
      "Epoch  14 Batch    4/8   train_loss = 1.734691024\n",
      "Epoch  14 Batch    5/8   train_loss = 1.634374022\n",
      "Epoch  14 Batch    6/8   train_loss = 1.626444221\n",
      "Epoch  14 Batch    7/8   train_loss = 1.602776051\n",
      "Epoch  15 Batch    0/8   train_loss = 1.640090704\n",
      "Epoch  15 Batch    1/8   train_loss = 1.642287016\n",
      "Epoch  15 Batch    2/8   train_loss = 1.609623075\n",
      "Epoch  15 Batch    3/8   train_loss = 1.628017187\n",
      "Epoch  15 Batch    4/8   train_loss = 1.538976073\n",
      "Epoch  15 Batch    5/8   train_loss = 1.472934008\n",
      "Epoch  15 Batch    6/8   train_loss = 1.481097817\n",
      "Epoch  15 Batch    7/8   train_loss = 1.436398983\n",
      "Epoch  16 Batch    0/8   train_loss = 1.479156137\n",
      "Epoch  16 Batch    1/8   train_loss = 1.482949853\n",
      "Epoch  16 Batch    2/8   train_loss = 1.451527953\n",
      "Epoch  16 Batch    3/8   train_loss = 1.483619690\n",
      "Epoch  16 Batch    4/8   train_loss = 1.383703113\n",
      "Epoch  16 Batch    5/8   train_loss = 1.309287548\n",
      "Epoch  16 Batch    6/8   train_loss = 1.315242648\n",
      "Epoch  16 Batch    7/8   train_loss = 1.280003786\n",
      "Epoch  17 Batch    0/8   train_loss = 1.344813585\n",
      "Epoch  17 Batch    1/8   train_loss = 1.347520947\n",
      "Epoch  17 Batch    2/8   train_loss = 1.313758850\n",
      "Epoch  17 Batch    3/8   train_loss = 1.358031750\n",
      "Epoch  17 Batch    4/8   train_loss = 1.260253668\n",
      "Epoch  17 Batch    5/8   train_loss = 1.180203795\n",
      "Epoch  17 Batch    6/8   train_loss = 1.187059760\n",
      "Epoch  17 Batch    7/8   train_loss = 1.143300891\n",
      "Epoch  18 Batch    0/8   train_loss = 1.234990954\n",
      "Epoch  18 Batch    1/8   train_loss = 1.247180462\n",
      "Epoch  18 Batch    2/8   train_loss = 1.219083667\n",
      "Epoch  18 Batch    3/8   train_loss = 1.240100622\n",
      "Epoch  18 Batch    4/8   train_loss = 1.127313733\n",
      "Epoch  18 Batch    5/8   train_loss = 1.088317752\n",
      "Epoch  18 Batch    6/8   train_loss = 1.115491986\n",
      "Epoch  18 Batch    7/8   train_loss = 1.064867258\n",
      "Epoch  19 Batch    0/8   train_loss = 1.123202920\n",
      "Epoch  19 Batch    1/8   train_loss = 1.124161005\n",
      "Epoch  19 Batch    2/8   train_loss = 1.132204175\n",
      "Epoch  19 Batch    3/8   train_loss = 1.207224488\n",
      "Epoch  19 Batch    4/8   train_loss = 1.080448866\n",
      "Epoch  19 Batch    5/8   train_loss = 0.996663868\n",
      "Epoch  19 Batch    6/8   train_loss = 1.025523901\n",
      "Epoch  19 Batch    7/8   train_loss = 1.010792494\n",
      "Epoch  20 Batch    0/8   train_loss = 1.134804249\n",
      "Epoch  20 Batch    1/8   train_loss = 1.069144845\n",
      "Epoch  20 Batch    2/8   train_loss = 1.041247964\n",
      "Epoch  20 Batch    3/8   train_loss = 1.106654048\n",
      "Epoch  20 Batch    4/8   train_loss = 1.027571559\n",
      "Epoch  20 Batch    5/8   train_loss = 0.991436183\n",
      "Epoch  20 Batch    6/8   train_loss = 0.963146210\n",
      "Epoch  20 Batch    7/8   train_loss = 0.918674827\n",
      "Epoch  21 Batch    0/8   train_loss = 1.040145636\n",
      "Epoch  21 Batch    1/8   train_loss = 1.040489793\n",
      "Epoch  21 Batch    2/8   train_loss = 1.010698915\n",
      "Epoch  21 Batch    3/8   train_loss = 1.043411493\n",
      "Epoch  21 Batch    4/8   train_loss = 0.921509147\n",
      "Epoch  21 Batch    5/8   train_loss = 0.879470050\n",
      "Epoch  21 Batch    6/8   train_loss = 0.899876177\n",
      "Epoch  21 Batch    7/8   train_loss = 0.863110602\n",
      "Epoch  22 Batch    0/8   train_loss = 0.944827855\n",
      "Epoch  22 Batch    1/8   train_loss = 0.923553109\n",
      "Epoch  22 Batch    2/8   train_loss = 0.909763992\n",
      "Epoch  22 Batch    3/8   train_loss = 0.961373150\n",
      "Epoch  22 Batch    4/8   train_loss = 0.860216558\n",
      "Epoch  22 Batch    5/8   train_loss = 0.797390223\n",
      "Epoch  22 Batch    6/8   train_loss = 0.791777849\n",
      "Epoch  22 Batch    7/8   train_loss = 0.751358390\n",
      "Epoch  23 Batch    0/8   train_loss = 0.855933607\n",
      "Epoch  23 Batch    1/8   train_loss = 0.835944414\n",
      "Epoch  23 Batch    2/8   train_loss = 0.801548779\n",
      "Epoch  23 Batch    3/8   train_loss = 0.852634132\n",
      "Epoch  23 Batch    4/8   train_loss = 0.752459943\n",
      "Epoch  23 Batch    5/8   train_loss = 0.717364967\n",
      "Epoch  23 Batch    6/8   train_loss = 0.711549878\n",
      "Epoch  23 Batch    7/8   train_loss = 0.671843946\n",
      "Epoch  24 Batch    0/8   train_loss = 0.762867749\n",
      "Epoch  24 Batch    1/8   train_loss = 0.745569527\n",
      "Epoch  24 Batch    2/8   train_loss = 0.717167139\n",
      "Epoch  24 Batch    3/8   train_loss = 0.770957708\n",
      "Epoch  24 Batch    4/8   train_loss = 0.678451777\n",
      "Epoch  24 Batch    5/8   train_loss = 0.637122989\n",
      "Epoch  24 Batch    6/8   train_loss = 0.632074535\n",
      "Epoch  24 Batch    7/8   train_loss = 0.598079443\n",
      "Epoch  25 Batch    0/8   train_loss = 0.684549987\n",
      "Epoch  25 Batch    1/8   train_loss = 0.675936401\n",
      "Epoch  25 Batch    2/8   train_loss = 0.643289626\n",
      "Epoch  25 Batch    3/8   train_loss = 0.696978390\n",
      "Epoch  25 Batch    4/8   train_loss = 0.610297501\n",
      "Epoch  25 Batch    5/8   train_loss = 0.577135146\n",
      "Epoch  25 Batch    6/8   train_loss = 0.575398445\n",
      "Epoch  25 Batch    7/8   train_loss = 0.538851559\n",
      "Epoch  26 Batch    0/8   train_loss = 0.622779787\n",
      "Epoch  26 Batch    1/8   train_loss = 0.605109632\n",
      "Epoch  26 Batch    2/8   train_loss = 0.578999400\n",
      "Epoch  26 Batch    3/8   train_loss = 0.632073939\n",
      "Epoch  26 Batch    4/8   train_loss = 0.553332508\n",
      "Epoch  26 Batch    5/8   train_loss = 0.526144564\n",
      "Epoch  26 Batch    6/8   train_loss = 0.525210679\n",
      "Epoch  26 Batch    7/8   train_loss = 0.489976376\n",
      "Epoch  27 Batch    0/8   train_loss = 0.575824320\n",
      "Epoch  27 Batch    1/8   train_loss = 0.555767596\n",
      "Epoch  27 Batch    2/8   train_loss = 0.528754890\n",
      "Epoch  27 Batch    3/8   train_loss = 0.573307812\n",
      "Epoch  27 Batch    4/8   train_loss = 0.503381014\n",
      "Epoch  27 Batch    5/8   train_loss = 0.490179330\n",
      "Epoch  27 Batch    6/8   train_loss = 0.490178615\n",
      "Epoch  27 Batch    7/8   train_loss = 0.447473586\n",
      "Epoch  28 Batch    0/8   train_loss = 0.518412709\n",
      "Epoch  28 Batch    1/8   train_loss = 0.510559380\n",
      "Epoch  28 Batch    2/8   train_loss = 0.496087968\n",
      "Epoch  28 Batch    3/8   train_loss = 0.543064237\n",
      "Epoch  28 Batch    4/8   train_loss = 0.470098495\n",
      "Epoch  28 Batch    5/8   train_loss = 0.438509047\n",
      "Epoch  28 Batch    6/8   train_loss = 0.438223422\n",
      "Epoch  28 Batch    7/8   train_loss = 0.415036380\n",
      "Epoch  29 Batch    0/8   train_loss = 0.497369766\n",
      "Epoch  29 Batch    1/8   train_loss = 0.485414952\n",
      "Epoch  29 Batch    2/8   train_loss = 0.457119882\n",
      "Epoch  29 Batch    3/8   train_loss = 0.498276442\n",
      "Epoch  29 Batch    4/8   train_loss = 0.433455169\n",
      "Epoch  29 Batch    5/8   train_loss = 0.425160021\n",
      "Epoch  29 Batch    6/8   train_loss = 0.428578556\n",
      "Epoch  29 Batch    7/8   train_loss = 0.392065108\n",
      "Model Trained and Saved\n"
     ]
    }
   ],
   "source": [
    "\"\"\"\n",
    "DON'T MODIFY ANYTHING IN THIS CELL\n",
    "\"\"\"\n",
    "batches = get_batches(int_text, batch_size, seq_length)\n",
    "\n",
    "with tf.Session(graph=train_graph) as sess:\n",
    "    sess.run(tf.global_variables_initializer())\n",
    "\n",
    "    for epoch_i in range(num_epochs):\n",
    "        state = sess.run(initial_state, {input_text: batches[0][0]})\n",
    "\n",
    "        for batch_i, (x, y) in enumerate(batches):\n",
    "            feed = {\n",
    "                input_text: x,\n",
    "                targets: y,\n",
    "                initial_state: state,\n",
    "                lr: learning_rate}\n",
    "            train_loss, state, _ = sess.run([cost, final_state, train_op], feed)\n",
    "\n",
    "            # Show every <show_every_n_batches> batches\n",
    "            if (epoch_i * len(batches) + batch_i) % show_every_n_batches == 0:\n",
    "                print('Epoch {:>3} Batch {:>4}/{}   train_loss = {:.9f}'.format(\n",
    "                    epoch_i,\n",
    "                    batch_i,\n",
    "                    len(batches),\n",
    "                    train_loss))\n",
    "\n",
    "    # Save Model\n",
    "    saver = tf.train.Saver()\n",
    "    saver.save(sess, save_dir)\n",
    "    print('Model Trained and Saved')"
   ]
  },
  {
   "cell_type": "markdown",
   "metadata": {
    "deletable": true,
    "editable": true
   },
   "source": [
    "## Save Parameters\n",
    "Save `seq_length` and `save_dir` for generating a new TV script."
   ]
  },
  {
   "cell_type": "code",
   "execution_count": 101,
   "metadata": {
    "collapsed": false,
    "deletable": true,
    "editable": true
   },
   "outputs": [],
   "source": [
    "\"\"\"\n",
    "DON'T MODIFY ANYTHING IN THIS CELL\n",
    "\"\"\"\n",
    "# Save parameters for checkpoint\n",
    "helper.save_params((seq_length, save_dir))"
   ]
  },
  {
   "cell_type": "markdown",
   "metadata": {
    "deletable": true,
    "editable": true
   },
   "source": [
    "# Checkpoint"
   ]
  },
  {
   "cell_type": "code",
   "execution_count": 102,
   "metadata": {
    "collapsed": false,
    "deletable": true,
    "editable": true
   },
   "outputs": [],
   "source": [
    "\"\"\"\n",
    "DON'T MODIFY ANYTHING IN THIS CELL\n",
    "\"\"\"\n",
    "import tensorflow as tf\n",
    "import numpy as np\n",
    "import helper\n",
    "import problem_unittests as tests\n",
    "\n",
    "_, vocab_to_int, int_to_vocab, token_dict = helper.load_preprocess()\n",
    "seq_length, load_dir = helper.load_params()"
   ]
  },
  {
   "cell_type": "markdown",
   "metadata": {
    "deletable": true,
    "editable": true
   },
   "source": [
    "## Implement Generate Functions\n",
    "### Get Tensors\n",
    "Get tensors from `loaded_graph` using the function [`get_tensor_by_name()`](https://www.tensorflow.org/api_docs/python/tf/Graph#get_tensor_by_name).  Get the tensors using the following names:\n",
    "- \"input:0\"\n",
    "- \"initial_state:0\"\n",
    "- \"final_state:0\"\n",
    "- \"probs:0\"\n",
    "\n",
    "Return the tensors in the following tuple `(InputTensor, InitialStateTensor, FinalStateTensor, ProbsTensor)` "
   ]
  },
  {
   "cell_type": "code",
   "execution_count": 103,
   "metadata": {
    "collapsed": false,
    "deletable": true,
    "editable": true
   },
   "outputs": [
    {
     "name": "stdout",
     "output_type": "stream",
     "text": [
      "Tests Passed\n"
     ]
    }
   ],
   "source": [
    "def get_tensors(loaded_graph):\n",
    "    \"\"\"\n",
    "    Get input, initial state, final state, and probabilities tensor from <loaded_graph>\n",
    "    :param loaded_graph: TensorFlow graph loaded from file\n",
    "    :return: Tuple (InputTensor, InitialStateTensor, FinalStateTensor, ProbsTensor)\n",
    "    \"\"\"\n",
    "    # TODO: Implement Function\n",
    "    InputTensor = loaded_graph.get_tensor_by_name('input:0')\n",
    "    InitialStateTensor = loaded_graph.get_tensor_by_name('initial_state:0')\n",
    "    FinalStateTensor = loaded_graph.get_tensor_by_name('final_state:0')\n",
    "    ProbsTensor = loaded_graph.get_tensor_by_name('probs:0')\n",
    "    return InputTensor, InitialStateTensor, FinalStateTensor, ProbsTensor\n",
    "\n",
    "\n",
    "\"\"\"\n",
    "DON'T MODIFY ANYTHING IN THIS CELL THAT IS BELOW THIS LINE\n",
    "\"\"\"\n",
    "tests.test_get_tensors(get_tensors)"
   ]
  },
  {
   "cell_type": "markdown",
   "metadata": {
    "deletable": true,
    "editable": true
   },
   "source": [
    "### Choose Word\n",
    "Implement the `pick_word()` function to select the next word using `probabilities`."
   ]
  },
  {
   "cell_type": "code",
   "execution_count": 106,
   "metadata": {
    "collapsed": false,
    "deletable": true,
    "editable": true
   },
   "outputs": [
    {
     "name": "stdout",
     "output_type": "stream",
     "text": [
      "Tests Passed\n"
     ]
    }
   ],
   "source": [
    "def pick_word(probabilities, int_to_vocab):\n",
    "    \"\"\"\n",
    "    Pick the next word in the generated text\n",
    "    :param probabilities: Probabilites of the next word\n",
    "    :param int_to_vocab: Dictionary of word ids as the keys and words as the values\n",
    "    :return: String of the predicted word\n",
    "    \"\"\"\n",
    "    # TODO: Implement Function\n",
    "    word = int_to_vocab[np.argmax(probabilities)]\n",
    "    return word\n",
    "\n",
    "\n",
    "\"\"\"\n",
    "DON'T MODIFY ANYTHING IN THIS CELL THAT IS BELOW THIS LINE\n",
    "\"\"\"\n",
    "tests.test_pick_word(pick_word)"
   ]
  },
  {
   "cell_type": "markdown",
   "metadata": {
    "deletable": true,
    "editable": true
   },
   "source": [
    "## Generate TV Script\n",
    "This will generate the TV script for you.  Set `gen_length` to the length of TV script you want to generate."
   ]
  },
  {
   "cell_type": "code",
   "execution_count": 107,
   "metadata": {
    "collapsed": false,
    "deletable": true,
    "editable": true
   },
   "outputs": [
    {
     "name": "stdout",
     "output_type": "stream",
     "text": [
      "moe_szyslak:(into phone) moe's tavern. where the elite meet to drink.\n",
      "homer_simpson: shutup!(worried) where's the bow? i can't sell it without the kinda, he wouldn't take it.\n",
      "carl_carlson:(sadly) yeah, poor stevie. they never found his way to paris, france.\n",
      "homer_simpson:(to tv) see, it was kinda hard to think of reasons for me to look at me.\n",
      "carl_carlson: you mean like the time you was running moonshine me, i swear. it was...(then) eww...\n",
      "carl_carlson:(to camera) see, you little rutabaga brain, i'll take your eyeball and-- i get it.\n",
      "moe_szyslak: well, if this guy's ridin' your rump, moe. you're a crab. and now i'm gonna go tsk, tsk, tsk, tsk, tsk, tsk, tsk, tsk. we got the money you need. however(to moe) barkeep, some cheap domestic beer.\n",
      "carl_carlson: you can't let yourself end up with a woman\n"
     ]
    }
   ],
   "source": [
    "gen_length = 200\n",
    "# homer_simpson, moe_szyslak, or Barney_Gumble\n",
    "prime_word = 'moe_szyslak'\n",
    "\n",
    "\"\"\"\n",
    "DON'T MODIFY ANYTHING IN THIS CELL THAT IS BELOW THIS LINE\n",
    "\"\"\"\n",
    "loaded_graph = tf.Graph()\n",
    "with tf.Session(graph=loaded_graph) as sess:\n",
    "    # Load saved model\n",
    "    loader = tf.train.import_meta_graph(load_dir + '.meta')\n",
    "    loader.restore(sess, load_dir)\n",
    "\n",
    "    # Get Tensors from loaded model\n",
    "    input_text, initial_state, final_state, probs = get_tensors(loaded_graph)\n",
    "\n",
    "    # Sentences generation setup\n",
    "    gen_sentences = [prime_word + ':']\n",
    "    prev_state = sess.run(initial_state, {input_text: np.array([[1]])})\n",
    "\n",
    "    # Generate sentences\n",
    "    for n in range(gen_length):\n",
    "        # Dynamic Input\n",
    "        dyn_input = [[vocab_to_int[word] for word in gen_sentences[-seq_length:]]]\n",
    "        dyn_seq_length = len(dyn_input[0])\n",
    "\n",
    "        # Get Prediction\n",
    "        probabilities, prev_state = sess.run(\n",
    "            [probs, final_state],\n",
    "            {input_text: dyn_input, initial_state: prev_state})\n",
    "        \n",
    "        pred_word = pick_word(probabilities[dyn_seq_length-1], int_to_vocab)\n",
    "\n",
    "        gen_sentences.append(pred_word)\n",
    "    \n",
    "    # Remove tokens\n",
    "    tv_script = ' '.join(gen_sentences)\n",
    "    for key, token in token_dict.items():\n",
    "        ending = ' ' if key in ['\\n', '(', '\"'] else ''\n",
    "        tv_script = tv_script.replace(' ' + token.lower(), key)\n",
    "    tv_script = tv_script.replace('\\n ', '\\n')\n",
    "    tv_script = tv_script.replace('( ', '(')\n",
    "        \n",
    "    print(tv_script)"
   ]
  },
  {
   "cell_type": "markdown",
   "metadata": {
    "deletable": true,
    "editable": true
   },
   "source": [
    "# The TV Script is Nonsensical\n",
    "It's ok if the TV script doesn't make any sense.  We trained on less than a megabyte of text.  In order to get good results, you'll have to use a smaller vocabulary or get more data.  Luckly there's more data!  As we mentioned in the begging of this project, this is a subset of [another dataset](https://www.kaggle.com/wcukierski/the-simpsons-by-the-data).  We didn't have you train on all the data, because that would take too long.  However, you are free to train your neural network on all the data.  After you complete the project, of course.\n",
    "# Submitting This Project\n",
    "When submitting this project, make sure to run all the cells before saving the notebook. Save the notebook file as \"dlnd_tv_script_generation.ipynb\" and save it as a HTML file under \"File\" -> \"Download as\". Include the \"helper.py\" and \"problem_unittests.py\" files in your submission."
   ]
  },
  {
   "cell_type": "code",
   "execution_count": null,
   "metadata": {
    "collapsed": true,
    "deletable": true,
    "editable": true
   },
   "outputs": [],
   "source": []
  }
 ],
 "metadata": {
  "kernelspec": {
   "display_name": "Python 2",
   "language": "python",
   "name": "python2"
  },
  "language_info": {
   "codemirror_mode": {
    "name": "ipython",
    "version": 2
   },
   "file_extension": ".py",
   "mimetype": "text/x-python",
   "name": "python",
   "nbconvert_exporter": "python",
   "pygments_lexer": "ipython2",
   "version": "2.7.13"
  },
  "widgets": {
   "state": {},
   "version": "1.1.2"
  }
 },
 "nbformat": 4,
 "nbformat_minor": 0
}
