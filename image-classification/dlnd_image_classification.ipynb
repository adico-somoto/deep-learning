{
 "cells": [
  {
   "cell_type": "markdown",
   "metadata": {
    "collapsed": true,
    "deletable": true,
    "editable": true
   },
   "source": [
    "# Image Classification\n",
    "In this project, you'll classify images from the [CIFAR-10 dataset](https://www.cs.toronto.edu/~kriz/cifar.html).  The dataset consists of airplanes, dogs, cats, and other objects. You'll preprocess the images, then train a convolutional neural network on all the samples. The images need to be normalized and the labels need to be one-hot encoded.  You'll get to apply what you learned and build a convolutional, max pooling, dropout, and fully connected layers.  At the end, you'll get to see your neural network's predictions on the sample images.\n",
    "## Get the Data\n",
    "Run the following cell to download the [CIFAR-10 dataset for python](https://www.cs.toronto.edu/~kriz/cifar-10-python.tar.gz)."
   ]
  },
  {
   "cell_type": "code",
   "execution_count": 1,
   "metadata": {
    "collapsed": false,
    "deletable": true,
    "editable": true
   },
   "outputs": [
    {
     "name": "stdout",
     "output_type": "stream",
     "text": [
      "All files found!\n"
     ]
    }
   ],
   "source": [
    "\"\"\"\n",
    "DON'T MODIFY ANYTHING IN THIS CELL THAT IS BELOW THIS LINE\n",
    "\"\"\"\n",
    "from urllib.request import urlretrieve\n",
    "from os.path import isfile, isdir\n",
    "from tqdm import tqdm\n",
    "import problem_unittests as tests\n",
    "import tarfile\n",
    "\n",
    "cifar10_dataset_folder_path = 'cifar-10-batches-py'\n",
    "\n",
    "# Use Floyd's cifar-10 dataset if present\n",
    "floyd_cifar10_location = '/input/cifar-10/python.tar.gz'\n",
    "if isfile(floyd_cifar10_location):\n",
    "    tar_gz_path = floyd_cifar10_location\n",
    "else:\n",
    "    tar_gz_path = 'cifar-10-python.tar.gz'\n",
    "\n",
    "class DLProgress(tqdm):\n",
    "    last_block = 0\n",
    "\n",
    "    def hook(self, block_num=1, block_size=1, total_size=None):\n",
    "        self.total = total_size\n",
    "        self.update((block_num - self.last_block) * block_size)\n",
    "        self.last_block = block_num\n",
    "\n",
    "if not isfile(tar_gz_path):\n",
    "    with DLProgress(unit='B', unit_scale=True, miniters=1, desc='CIFAR-10 Dataset') as pbar:\n",
    "        urlretrieve(\n",
    "            'https://www.cs.toronto.edu/~kriz/cifar-10-python.tar.gz',\n",
    "            tar_gz_path,\n",
    "            pbar.hook)\n",
    "\n",
    "if not isdir(cifar10_dataset_folder_path):\n",
    "    with tarfile.open(tar_gz_path) as tar:\n",
    "        tar.extractall()\n",
    "        tar.close()\n",
    "\n",
    "\n",
    "tests.test_folder_path(cifar10_dataset_folder_path)"
   ]
  },
  {
   "cell_type": "markdown",
   "metadata": {
    "deletable": true,
    "editable": true
   },
   "source": [
    "## Explore the Data\n",
    "The dataset is broken into batches to prevent your machine from running out of memory.  The CIFAR-10 dataset consists of 5 batches, named `data_batch_1`, `data_batch_2`, etc.. Each batch contains the labels and images that are one of the following:\n",
    "* airplane\n",
    "* automobile\n",
    "* bird\n",
    "* cat\n",
    "* deer\n",
    "* dog\n",
    "* frog\n",
    "* horse\n",
    "* ship\n",
    "* truck\n",
    "\n",
    "Understanding a dataset is part of making predictions on the data.  Play around with the code cell below by changing the `batch_id` and `sample_id`. The `batch_id` is the id for a batch (1-5). The `sample_id` is the id for a image and label pair in the batch.\n",
    "\n",
    "Ask yourself \"What are all possible labels?\", \"What is the range of values for the image data?\", \"Are the labels in order or random?\".  Answers to questions like these will help you preprocess the data and end up with better predictions."
   ]
  },
  {
   "cell_type": "code",
   "execution_count": 2,
   "metadata": {
    "collapsed": false,
    "deletable": true,
    "editable": true
   },
   "outputs": [
    {
     "name": "stdout",
     "output_type": "stream",
     "text": [
      "\n",
      "Stats of batch 5:\n",
      "Samples: 10000\n",
      "Label Counts: {0: 1014, 1: 1014, 2: 952, 3: 1016, 4: 997, 5: 1025, 6: 980, 7: 977, 8: 1003, 9: 1022}\n",
      "First 20 Labels: [1, 8, 5, 1, 5, 7, 4, 3, 8, 2, 7, 2, 0, 1, 5, 9, 6, 2, 0, 8]\n",
      "\n",
      "Example of Image 6:\n",
      "Image - Min Value: 12 Max Value: 188\n",
      "Image - Shape: (32, 32, 3)\n",
      "Label - Label Id: 4 Name: deer\n"
     ]
    },
    {
     "data": {
      "image/png": "[encoded data removed]",
      "text/plain": [
       "<matplotlib.figure.Figure at 0x7f05488209e8>"
      ]
     },
     "metadata": {
      "image/png": {
       "height": 250,
       "width": 253
      }
     },
     "output_type": "display_data"
    }
   ],
   "source": [
    "%matplotlib inline\n",
    "%config InlineBackend.figure_format = 'retina'\n",
    "\n",
    "import helper\n",
    "import numpy as np\n",
    "\n",
    "# Explore the dataset\n",
    "batch_id = 5\n",
    "sample_id = 6\n",
    "helper.display_stats(cifar10_dataset_folder_path, batch_id, sample_id)"
   ]
  },
  {
   "cell_type": "markdown",
   "metadata": {
    "deletable": true,
    "editable": true
   },
   "source": [
    "## Implement Preprocess Functions\n",
    "### Normalize\n",
    "In the cell below, implement the `normalize` function to take in image data, `x`, and return it as a normalized Numpy array. The values should be in the range of 0 to 1, inclusive.  The return object should be the same shape as `x`."
   ]
  },
  {
   "cell_type": "code",
   "execution_count": 3,
   "metadata": {
    "collapsed": false,
    "deletable": true,
    "editable": true
   },
   "outputs": [
    {
     "name": "stdout",
     "output_type": "stream",
     "text": [
      "Tests Passed\n"
     ]
    }
   ],
   "source": [
    "def normalize(x):\n",
    "    \"\"\"\n",
    "    Normalize a list of sample image data in the range of 0 to 1\n",
    "    : x: List of image data.  The image shape is (32, 32, 3)\n",
    "    : return: Numpy array of normalize data\n",
    "    \"\"\"\n",
    "    # TODO: Implement Function\n",
    "    return x/256\n",
    "\n",
    "\n",
    "\"\"\"\n",
    "DON'T MODIFY ANYTHING IN THIS CELL THAT IS BELOW THIS LINE\n",
    "\"\"\"\n",
    "tests.test_normalize(normalize)"
   ]
  },
  {
   "cell_type": "markdown",
   "metadata": {
    "deletable": true,
    "editable": true
   },
   "source": [
    "### One-hot encode\n",
    "Just like the previous code cell, you'll be implementing a function for preprocessing.  This time, you'll implement the `one_hot_encode` function. The input, `x`, are a list of labels.  Implement the function to return the list of labels as One-Hot encoded Numpy array.  The possible values for labels are 0 to 9. The one-hot encoding function should return the same encoding for each value between each call to `one_hot_encode`.  Make sure to save the map of encodings outside the function.\n",
    "\n",
    "Hint: Don't reinvent the wheel."
   ]
  },
  {
   "cell_type": "code",
   "execution_count": 4,
   "metadata": {
    "collapsed": false,
    "deletable": true,
    "editable": true
   },
   "outputs": [
    {
     "name": "stdout",
     "output_type": "stream",
     "text": [
      "Tests Passed\n"
     ]
    }
   ],
   "source": [
    "def one_hot_encode(x):\n",
    "    \"\"\"\n",
    "    One hot encode a list of sample labels. Return a one-hot encoded vector for each label.\n",
    "    : x: List of sample Labels\n",
    "    : return: Numpy array of one-hot encoded labels\n",
    "    \"\"\"\n",
    "    # TODO: Implement Function\n",
    "    return np.eye(10)[x]\n",
    "\n",
    "\n",
    "\"\"\"\n",
    "DON'T MODIFY ANYTHING IN THIS CELL THAT IS BELOW THIS LINE\n",
    "\"\"\"\n",
    "tests.test_one_hot_encode(one_hot_encode)"
   ]
  },
  {
   "cell_type": "markdown",
   "metadata": {
    "deletable": true,
    "editable": true
   },
   "source": [
    "### Randomize Data\n",
    "As you saw from exploring the data above, the order of the samples are randomized.  It doesn't hurt to randomize it again, but you don't need to for this dataset."
   ]
  },
  {
   "cell_type": "markdown",
   "metadata": {
    "deletable": true,
    "editable": true
   },
   "source": [
    "## Preprocess all the data and save it\n",
    "Running the code cell below will preprocess all the CIFAR-10 data and save it to file. The code below also uses 10% of the training data for validation."
   ]
  },
  {
   "cell_type": "code",
   "execution_count": 5,
   "metadata": {
    "collapsed": false,
    "deletable": true,
    "editable": true
   },
   "outputs": [],
   "source": [
    "\"\"\"\n",
    "DON'T MODIFY ANYTHING IN THIS CELL\n",
    "\"\"\"\n",
    "# Preprocess Training, Validation, and Testing Data\n",
    "helper.preprocess_and_save_data(cifar10_dataset_folder_path, normalize, one_hot_encode)"
   ]
  },
  {
   "cell_type": "markdown",
   "metadata": {
    "deletable": true,
    "editable": true
   },
   "source": [
    "# Check Point\n",
    "This is your first checkpoint.  If you ever decide to come back to this notebook or have to restart the notebook, you can start from here.  The preprocessed data has been saved to disk."
   ]
  },
  {
   "cell_type": "code",
   "execution_count": 9,
   "metadata": {
    "collapsed": true,
    "deletable": true,
    "editable": true
   },
   "outputs": [],
   "source": [
    "\"\"\"\n",
    "DON'T MODIFY ANYTHING IN THIS CELL\n",
    "\"\"\"\n",
    "import pickle\n",
    "import problem_unittests as tests\n",
    "import helper\n",
    "import numpy as np\n",
    "\n",
    "# Load the Preprocessed Validation data\n",
    "valid_features, valid_labels = pickle.load(open('preprocess_validation.p', mode='rb'))"
   ]
  },
  {
   "cell_type": "markdown",
   "metadata": {
    "deletable": true,
    "editable": true
   },
   "source": [
    "## Build the network\n",
    "For the neural network, you'll build each layer into a function.  Most of the code you've seen has been outside of functions. To test your code more thoroughly, we require that you put each layer in a function.  This allows us to give you better feedback and test for simple mistakes using our unittests before you submit your project.\n",
    "\n",
    ">**Note:** If you're finding it hard to dedicate enough time for this course each week, we've provided a small shortcut to this part of the project. In the next couple of problems, you'll have the option to use classes from the [TensorFlow Layers](https://www.tensorflow.org/api_docs/python/tf/layers) or [TensorFlow Layers (contrib)](https://www.tensorflow.org/api_guides/python/contrib.layers) packages to build each layer, except the layers you build in the \"Convolutional and Max Pooling Layer\" section.  TF Layers is similar to Keras's and TFLearn's abstraction to layers, so it's easy to pickup.\n",
    "\n",
    ">However, if you would like to get the most out of this course, try to solve all the problems _without_ using anything from the TF Layers packages. You **can** still use classes from other packages that happen to have the same name as ones you find in TF Layers! For example, instead of using the TF Layers version of the `conv2d` class, [tf.layers.conv2d](https://www.tensorflow.org/api_docs/python/tf/layers/conv2d), you would want to use the TF Neural Network version of `conv2d`, [tf.nn.conv2d](https://www.tensorflow.org/api_docs/python/tf/nn/conv2d). \n",
    "\n",
    "Let's begin!\n",
    "\n",
    "### Input\n",
    "The neural network needs to read the image data, one-hot encoded labels, and dropout keep probability. Implement the following functions\n",
    "* Implement `neural_net_image_input`\n",
    " * Return a [TF Placeholder](https://www.tensorflow.org/api_docs/python/tf/placeholder)\n",
    " * Set the shape using `image_shape` with batch size set to `None`.\n",
    " * Name the TensorFlow placeholder \"x\" using the TensorFlow `name` parameter in the [TF Placeholder](https://www.tensorflow.org/api_docs/python/tf/placeholder).\n",
    "* Implement `neural_net_label_input`\n",
    " * Return a [TF Placeholder](https://www.tensorflow.org/api_docs/python/tf/placeholder)\n",
    " * Set the shape using `n_classes` with batch size set to `None`.\n",
    " * Name the TensorFlow placeholder \"y\" using the TensorFlow `name` parameter in the [TF Placeholder](https://www.tensorflow.org/api_docs/python/tf/placeholder).\n",
    "* Implement `neural_net_keep_prob_input`\n",
    " * Return a [TF Placeholder](https://www.tensorflow.org/api_docs/python/tf/placeholder) for dropout keep probability.\n",
    " * Name the TensorFlow placeholder \"keep_prob\" using the TensorFlow `name` parameter in the [TF Placeholder](https://www.tensorflow.org/api_docs/python/tf/placeholder).\n",
    "\n",
    "These names will be used at the end of the project to load your saved model.\n",
    "\n",
    "Note: `None` for shapes in TensorFlow allow for a dynamic size."
   ]
  },
  {
   "cell_type": "code",
   "execution_count": 10,
   "metadata": {
    "collapsed": false,
    "deletable": true,
    "editable": true
   },
   "outputs": [
    {
     "name": "stdout",
     "output_type": "stream",
     "text": [
      "Image Input Tests Passed.\n",
      "Label Input Tests Passed.\n",
      "Keep Prob Tests Passed.\n"
     ]
    }
   ],
   "source": [
    "import tensorflow as tf\n",
    "\n",
    "def neural_net_image_input(image_shape):\n",
    "    \"\"\"\n",
    "    Return a Tensor for a bach of image input\n",
    "    : image_shape: Shape of the images\n",
    "    : return: Tensor for image input.\n",
    "    \"\"\"\n",
    "    # TODO: Implement Function\n",
    "    return tf.placeholder(tf.float32, shape=(None,)+image_shape, name='x')\n",
    "\n",
    "\n",
    "def neural_net_label_input(n_classes):\n",
    "    \"\"\"\n",
    "    Return a Tensor for a batch of label input\n",
    "    : n_classes: Number of classes\n",
    "    : return: Tensor for label input.\n",
    "    \"\"\"\n",
    "    # TODO: Implement Function\n",
    "    return tf.placeholder(tf.float32, shape=[None,n_classes], name='y')\n",
    "\n",
    "\n",
    "def neural_net_keep_prob_input():\n",
    "    \"\"\"\n",
    "    Return a Tensor for keep probability\n",
    "    : return: Tensor for keep probability.\n",
    "    \"\"\"\n",
    "    # TODO: Implement Function\n",
    "    return tf.placeholder(tf.float32, name='keep_prob')\n",
    "\n",
    "\n",
    "\"\"\"\n",
    "DON'T MODIFY ANYTHING IN THIS CELL THAT IS BELOW THIS LINE\n",
    "\"\"\"\n",
    "tf.reset_default_graph()\n",
    "tests.test_nn_image_inputs(neural_net_image_input)\n",
    "tests.test_nn_label_inputs(neural_net_label_input)\n",
    "tests.test_nn_keep_prob_inputs(neural_net_keep_prob_input)"
   ]
  },
  {
   "cell_type": "markdown",
   "metadata": {
    "deletable": true,
    "editable": true
   },
   "source": [
    "### Convolution and Max Pooling Layer\n",
    "Convolution layers have a lot of success with images. For this code cell, you should implement the function `conv2d_maxpool` to apply convolution then max pooling:\n",
    "* Create the weight and bias using `conv_ksize`, `conv_num_outputs` and the shape of `x_tensor`.\n",
    "* Apply a convolution to `x_tensor` using weight and `conv_strides`.\n",
    " * We recommend you use same padding, but you're welcome to use any padding.\n",
    "* Add bias\n",
    "* Add a nonlinear activation to the convolution.\n",
    "* Apply Max Pooling using `pool_ksize` and `pool_strides`.\n",
    " * We recommend you use same padding, but you're welcome to use any padding.\n",
    "\n",
    "**Note:** You **can't** use [TensorFlow Layers](https://www.tensorflow.org/api_docs/python/tf/layers) or [TensorFlow Layers (contrib)](https://www.tensorflow.org/api_guides/python/contrib.layers) for **this** layer, but you can still use TensorFlow's [Neural Network](https://www.tensorflow.org/api_docs/python/tf/nn) package. You may still use the shortcut option for all the **other** layers."
   ]
  },
  {
   "cell_type": "code",
   "execution_count": 11,
   "metadata": {
    "collapsed": false,
    "deletable": true,
    "editable": true
   },
   "outputs": [
    {
     "name": "stdout",
     "output_type": "stream",
     "text": [
      "Tests Passed\n"
     ]
    }
   ],
   "source": [
    "def conv2d(x, W, b, strides=(1,1)):\n",
    "    x = tf.nn.conv2d(x, W, strides=[1, strides[0], strides[1], 1], padding='SAME')\n",
    "    x = tf.nn.bias_add(x, b)\n",
    "    return tf.nn.relu(x)\n",
    "\n",
    "def maxpool2d(x, k=(2,2), s=(2,2)):\n",
    "    return tf.nn.max_pool(\n",
    "        x,\n",
    "        ksize=[1, k[0], k[1], 1],\n",
    "        strides=[1, s[0], s[1], 1],\n",
    "        padding='SAME')\n",
    "\n",
    "def conv2d_maxpool(x_tensor, conv_num_outputs, conv_ksize, conv_strides, pool_ksize, pool_strides):\n",
    "    \"\"\"\n",
    "    Apply convolution then max pooling to x_tensor\n",
    "    :param x_tensor: TensorFlow Tensor\n",
    "    :param conv_num_outputs: Number of outputs for the convolutional layer\n",
    "    :param conv_ksize: kernal size 2-D Tuple for the convolutional layer\n",
    "    :param conv_strides: Stride 2-D Tuple for convolution\n",
    "    :param pool_ksize: kernal size 2-D Tuple for pool\n",
    "    :param pool_strides: Stride 2-D Tuple for pool\n",
    "    : return: A tensor that represents convolution and max pooling of x_tensor\n",
    "    \"\"\"\n",
    "    # TODO: Implement Function\n",
    "    # Store layers weight & bias\n",
    "    xShape = x_tensor.get_shape();\n",
    "    input_depth = int(xShape[3])\n",
    "    in_height = int(xShape[2])\n",
    "    in_width = int(xShape[1])\n",
    "    filter_height = conv_ksize[0] # 8\n",
    "    filter_width = conv_ksize[1] # 8\n",
    "        \n",
    "    wc1 = tf.Variable(tf.random_normal([filter_width, filter_height, input_depth, conv_num_outputs]))\n",
    "    bc1 = tf.Variable(tf.random_normal([conv_num_outputs]))\n",
    "\n",
    "    return maxpool2d(conv2d(x_tensor, wc1, bc1, conv_strides), pool_ksize, pool_strides) \n",
    "\n",
    "\n",
    "\"\"\"\n",
    "DON'T MODIFY ANYTHING IN THIS CELL THAT IS BELOW THIS LINE\n",
    "\"\"\"\n",
    "tests.test_con_pool(conv2d_maxpool)"
   ]
  },
  {
   "cell_type": "markdown",
   "metadata": {
    "deletable": true,
    "editable": true
   },
   "source": [
    "### Flatten Layer\n",
    "Implement the `flatten` function to change the dimension of `x_tensor` from a 4-D tensor to a 2-D tensor.  The output should be the shape (*Batch Size*, *Flattened Image Size*). Shortcut option: you can use classes from the [TensorFlow Layers](https://www.tensorflow.org/api_docs/python/tf/layers) or [TensorFlow Layers (contrib)](https://www.tensorflow.org/api_guides/python/contrib.layers) packages for this layer. For more of a challenge, only use other TensorFlow packages."
   ]
  },
  {
   "cell_type": "code",
   "execution_count": 12,
   "metadata": {
    "collapsed": false,
    "deletable": true,
    "editable": true
   },
   "outputs": [
    {
     "name": "stdout",
     "output_type": "stream",
     "text": [
      "Tests Passed\n"
     ]
    }
   ],
   "source": [
    "def flatten(x_tensor):\n",
    "    \"\"\"\n",
    "    Flatten x_tensor to (Batch Size, Flattened Image Size)\n",
    "    : x_tensor: A tensor of size (Batch Size, ...), where ... are the image dimensions.\n",
    "    : return: A tensor of size (Batch Size, Flattened Image Size).\n",
    "    \"\"\"\n",
    "    # TODO: Implement Function\n",
    "    shape = x_tensor.get_shape().as_list()\n",
    "    dim = np.prod(shape[1:])\n",
    "    return tf.reshape(x_tensor, [-1, dim])\n",
    "\n",
    "\n",
    "\"\"\"\n",
    "DON'T MODIFY ANYTHING IN THIS CELL THAT IS BELOW THIS LINE\n",
    "\"\"\"\n",
    "tests.test_flatten(flatten)"
   ]
  },
  {
   "cell_type": "markdown",
   "metadata": {
    "deletable": true,
    "editable": true
   },
   "source": [
    "### Fully-Connected Layer\n",
    "Implement the `fully_conn` function to apply a fully connected layer to `x_tensor` with the shape (*Batch Size*, *num_outputs*). Shortcut option: you can use classes from the [TensorFlow Layers](https://www.tensorflow.org/api_docs/python/tf/layers) or [TensorFlow Layers (contrib)](https://www.tensorflow.org/api_guides/python/contrib.layers) packages for this layer. For more of a challenge, only use other TensorFlow packages."
   ]
  },
  {
   "cell_type": "code",
   "execution_count": 13,
   "metadata": {
    "collapsed": false,
    "deletable": true,
    "editable": true
   },
   "outputs": [
    {
     "name": "stdout",
     "output_type": "stream",
     "text": [
      "Tests Passed\n"
     ]
    }
   ],
   "source": [
    "def fully_conn(x_tensor, num_outputs):\n",
    "    \"\"\"\n",
    "    Apply a fully connected layer to x_tensor using weight and bias\n",
    "    : x_tensor: A 2-D tensor where the first dimension is batch size.\n",
    "    : num_outputs: The number of output that the new tensor should be.\n",
    "    : return: A 2-D tensor where the second dimension is num_outputs.\n",
    "    \"\"\"\n",
    "    # TODO: Implement Function\n",
    "    tShape = x_tensor.get_shape()\n",
    "    wd1 = tf.Variable(tf.random_normal([int(tShape[1]), num_outputs]))\n",
    "    bd1 = tf.Variable(tf.random_normal([num_outputs]))\n",
    "    \n",
    "    fc1 = tf.add(tf.matmul(x_tensor, wd1), bd1)\n",
    "    fc1 = tf.nn.relu(fc1)\n",
    "    return fc1\n",
    "\n",
    "\n",
    "\"\"\"\n",
    "DON'T MODIFY ANYTHING IN THIS CELL THAT IS BELOW THIS LINE\n",
    "\"\"\"\n",
    "tests.test_fully_conn(fully_conn)"
   ]
  },
  {
   "cell_type": "markdown",
   "metadata": {
    "deletable": true,
    "editable": true
   },
   "source": [
    "### Output Layer\n",
    "Implement the `output` function to apply a fully connected layer to `x_tensor` with the shape (*Batch Size*, *num_outputs*). Shortcut option: you can use classes from the [TensorFlow Layers](https://www.tensorflow.org/api_docs/python/tf/layers) or [TensorFlow Layers (contrib)](https://www.tensorflow.org/api_guides/python/contrib.layers) packages for this layer. For more of a challenge, only use other TensorFlow packages.\n",
    "\n",
    "**Note:** Activation, softmax, or cross entropy should **not** be applied to this."
   ]
  },
  {
   "cell_type": "code",
   "execution_count": 14,
   "metadata": {
    "collapsed": false,
    "deletable": true,
    "editable": true
   },
   "outputs": [
    {
     "name": "stdout",
     "output_type": "stream",
     "text": [
      "Tests Passed\n"
     ]
    }
   ],
   "source": [
    "def output(x_tensor, num_outputs):\n",
    "    \"\"\"\n",
    "    Apply a output layer to x_tensor using weight and bias\n",
    "    : x_tensor: A 2-D tensor where the first dimension is batch size.\n",
    "    : num_outputs: The number of output that the new tensor should be.\n",
    "    : return: A 2-D tensor where the second dimension is num_outputs.\n",
    "    \"\"\"\n",
    "    # TODO: Implement Function\n",
    "    tShape = x_tensor.get_shape()\n",
    "    wOut = tf.Variable(tf.random_normal([int(tShape[1]), num_outputs]))\n",
    "    bOut = tf.Variable(tf.random_normal([num_outputs]))\n",
    "    out = tf.add(tf.matmul(x_tensor, wOut), bOut)\n",
    "    return out\n",
    "\n",
    "\n",
    "\"\"\"\n",
    "DON'T MODIFY ANYTHING IN THIS CELL THAT IS BELOW THIS LINE\n",
    "\"\"\"\n",
    "tests.test_output(output)"
   ]
  },
  {
   "cell_type": "markdown",
   "metadata": {
    "deletable": true,
    "editable": true
   },
   "source": [
    "### Create Convolutional Model\n",
    "Implement the function `conv_net` to create a convolutional neural network model. The function takes in a batch of images, `x`, and outputs logits.  Use the layers you created above to create this model:\n",
    "\n",
    "* Apply 1, 2, or 3 Convolution and Max Pool layers\n",
    "* Apply a Flatten Layer\n",
    "* Apply 1, 2, or 3 Fully Connected Layers\n",
    "* Apply an Output Layer\n",
    "* Return the output\n",
    "* Apply [TensorFlow's Dropout](https://www.tensorflow.org/api_docs/python/tf/nn/dropout) to one or more layers in the model using `keep_prob`. "
   ]
  },
  {
   "cell_type": "code",
   "execution_count": 15,
   "metadata": {
    "collapsed": false,
    "deletable": true,
    "editable": true
   },
   "outputs": [
    {
     "name": "stdout",
     "output_type": "stream",
     "text": [
      "Neural Network Built!\n"
     ]
    }
   ],
   "source": [
    "def conv_net(x, keep_prob):\n",
    "    \"\"\"\n",
    "    Create a convolutional neural network model\n",
    "    : x: Placeholder tensor that holds image data.\n",
    "    : keep_prob: Placeholder tensor that hold dropout keep probability.\n",
    "    : return: Tensor that represents logits\n",
    "    \"\"\"\n",
    "    # TODO: Apply 1, 2, or 3 Convolution and Max Pool layers\n",
    "    #    Play around with different number of outputs, kernel size and stride\n",
    "    # Function Definition from Above:\n",
    "    conv_num_outputs = 6\n",
    "    conv_ksize = (8,8)\n",
    "    conv_strides = (1,1)\n",
    "    pool_ksize = (1,1)\n",
    "    pool_strides = (1,1)\n",
    "    x_tensor = conv2d_maxpool(x, conv_num_outputs, conv_ksize, conv_strides, pool_ksize, pool_strides)\n",
    "    \n",
    "    conv_num_outputs = 16\n",
    "    conv_ksize = (6,6)\n",
    "    conv_strides = (1,1)\n",
    "    pool_ksize = (2,2)\n",
    "    pool_strides = (2,2)\n",
    "    x_tensor = conv2d_maxpool(x, conv_num_outputs, conv_ksize, conv_strides, pool_ksize, pool_strides)\n",
    "    \n",
    "    conv_num_outputs = 32\n",
    "    conv_ksize = (4,4)\n",
    "    conv_strides = (1,1)\n",
    "    pool_ksize = (2,2)\n",
    "    pool_strides = (2,2)\n",
    "    x_tensor = conv2d_maxpool(x, conv_num_outputs, conv_ksize, conv_strides, pool_ksize, pool_strides)\n",
    "    \n",
    "\n",
    "    # TODO: Apply a Flatten Layer\n",
    "    # Function Definition from Above:\n",
    "    x_tensor = flatten(x_tensor)\n",
    "    \n",
    "\n",
    "    # TODO: Apply 1, 2, or 3 Fully Connected Layers\n",
    "    #    Play around with different number of outputs\n",
    "    # Function Definition from Above:\n",
    "    num_outputs_1 = int(x_tensor.get_shape()[1])\n",
    "    x_tensor = fully_conn(x_tensor, num_outputs_1)\n",
    "    x_tensor = fully_conn(x_tensor, int(num_outputs_1*2))\n",
    "    x_tensor = tf.nn.dropout(x_tensor, keep_prob)\n",
    "    \n",
    "    # TODO: Apply an Output Layer\n",
    "    #    Set this to the number of classes\n",
    "    # Function Definition from Above:\n",
    "    num_outputs_2 = 10\n",
    "    x_tensor = output(x_tensor, num_outputs_2)\n",
    "    \n",
    "    \n",
    "    # TODO: return output\n",
    "    return x_tensor\n",
    "\n",
    "\n",
    "\"\"\"\n",
    "DON'T MODIFY ANYTHING IN THIS CELL THAT IS BELOW THIS LINE\n",
    "\"\"\"\n",
    "\n",
    "##############################\n",
    "## Build the Neural Network ##\n",
    "##############################\n",
    "\n",
    "# Remove previous weights, bias, inputs, etc..\n",
    "tf.reset_default_graph()\n",
    "\n",
    "# Inputs\n",
    "x = neural_net_image_input((32, 32, 3))\n",
    "y = neural_net_label_input(10)\n",
    "keep_prob = neural_net_keep_prob_input()\n",
    "\n",
    "# Model\n",
    "logits = conv_net(x, keep_prob)\n",
    "\n",
    "# Name logits Tensor, so that is can be loaded from disk after training\n",
    "logits = tf.identity(logits, name='logits')\n",
    "\n",
    "# Loss and Optimizer\n",
    "cost = tf.reduce_mean(tf.nn.softmax_cross_entropy_with_logits(logits=logits, labels=y))\n",
    "optimizer = tf.train.AdamOptimizer().minimize(cost)\n",
    "\n",
    "# Accuracy\n",
    "correct_pred = tf.equal(tf.argmax(logits, 1), tf.argmax(y, 1))\n",
    "accuracy = tf.reduce_mean(tf.cast(correct_pred, tf.float32), name='accuracy')\n",
    "\n",
    "tests.test_conv_net(conv_net)"
   ]
  },
  {
   "cell_type": "markdown",
   "metadata": {
    "deletable": true,
    "editable": true
   },
   "source": [
    "## Train the Neural Network\n",
    "### Single Optimization\n",
    "Implement the function `train_neural_network` to do a single optimization.  The optimization should use `optimizer` to optimize in `session` with a `feed_dict` of the following:\n",
    "* `x` for image input\n",
    "* `y` for labels\n",
    "* `keep_prob` for keep probability for dropout\n",
    "\n",
    "This function will be called for each batch, so `tf.global_variables_initializer()` has already been called.\n",
    "\n",
    "Note: Nothing needs to be returned. This function is only optimizing the neural network."
   ]
  },
  {
   "cell_type": "code",
   "execution_count": 16,
   "metadata": {
    "collapsed": false,
    "deletable": true,
    "editable": true
   },
   "outputs": [
    {
     "name": "stdout",
     "output_type": "stream",
     "text": [
      "Tests Passed\n"
     ]
    }
   ],
   "source": [
    "def train_neural_network(session, optimizer, keep_probability, feature_batch, label_batch):\n",
    "    \"\"\"\n",
    "    Optimize the session on a batch of images and labels\n",
    "    : session: Current TensorFlow session\n",
    "    : optimizer: TensorFlow optimizer function\n",
    "    : keep_probability: keep probability\n",
    "    : feature_batch: Batch of Numpy image data\n",
    "    : label_batch: Batch of Numpy label data\n",
    "    \"\"\"\n",
    "    # TODO: Implement Function\n",
    "    session.run(optimizer, feed_dict={\n",
    "                x: feature_batch,\n",
    "                y: label_batch,\n",
    "                keep_prob: keep_probability})\n",
    "\n",
    "\n",
    "\"\"\"\n",
    "DON'T MODIFY ANYTHING IN THIS CELL THAT IS BELOW THIS LINE\n",
    "\"\"\"\n",
    "tests.test_train_nn(train_neural_network)"
   ]
  },
  {
   "cell_type": "markdown",
   "metadata": {
    "deletable": true,
    "editable": true
   },
   "source": [
    "### Show Stats\n",
    "Implement the function `print_stats` to print loss and validation accuracy.  Use the global variables `valid_features` and `valid_labels` to calculate validation accuracy.  Use a keep probability of `1.0` to calculate the loss and validation accuracy."
   ]
  },
  {
   "cell_type": "code",
   "execution_count": 17,
   "metadata": {
    "collapsed": false,
    "deletable": true,
    "editable": true
   },
   "outputs": [],
   "source": [
    "def print_stats(session, feature_batch, label_batch, cost, accuracy):\n",
    "    \"\"\"\n",
    "    Print information about loss and validation accuracy\n",
    "    : session: Current TensorFlow session\n",
    "    : feature_batch: Batch of Numpy image data\n",
    "    : label_batch: Batch of Numpy label data\n",
    "    : cost: TensorFlow cost function\n",
    "    : accuracy: TensorFlow accuracy function\n",
    "    \"\"\"\n",
    "    # TODO: Implement Function\n",
    "    # Calculate batch loss and accuracy\n",
    "    loss = session.run(cost, feed_dict={\n",
    "        x: feature_batch,\n",
    "        y: label_batch,\n",
    "        keep_prob: 1.})\n",
    "    valid_acc = session.run(accuracy, feed_dict={\n",
    "        x: valid_features,\n",
    "        y: valid_labels,\n",
    "        keep_prob: 1.})\n",
    "\n",
    "    print('Loss: {:>10.4f} Validation Accuracy: {:.6f}'.format(\n",
    "        loss,\n",
    "        valid_acc))"
   ]
  },
  {
   "cell_type": "markdown",
   "metadata": {
    "deletable": true,
    "editable": true
   },
   "source": [
    "### Hyperparameters\n",
    "Tune the following parameters:\n",
    "* Set `epochs` to the number of iterations until the network stops learning or start overfitting\n",
    "* Set `batch_size` to the highest number that your machine has memory for.  Most people set them to common sizes of memory:\n",
    " * 64\n",
    " * 128\n",
    " * 256\n",
    " * ...\n",
    "* Set `keep_probability` to the probability of keeping a node using dropout"
   ]
  },
  {
   "cell_type": "code",
   "execution_count": 18,
   "metadata": {
    "collapsed": true,
    "deletable": true,
    "editable": true
   },
   "outputs": [],
   "source": [
    "# TODO: Tune Parameters\n",
    "epochs = 26\n",
    "batch_size = 256\n",
    "keep_probability = 0.75"
   ]
  },
  {
   "cell_type": "markdown",
   "metadata": {
    "deletable": true,
    "editable": true
   },
   "source": [
    "### Train on a Single CIFAR-10 Batch\n",
    "Instead of training the neural network on all the CIFAR-10 batches of data, let's use a single batch. This should save time while you iterate on the model to get a better accuracy.  Once the final validation accuracy is 50% or greater, run the model on all the data in the next section."
   ]
  },
  {
   "cell_type": "code",
   "execution_count": 19,
   "metadata": {
    "collapsed": false,
    "deletable": true,
    "editable": true
   },
   "outputs": [
    {
     "name": "stdout",
     "output_type": "stream",
     "text": [
      "Checking the Training on a Single Batch...\n",
      "Epoch  1, CIFAR-10 Batch 1:  Loss: 629286.7500 Validation Accuracy: 0.332000\n",
      "Epoch  2, CIFAR-10 Batch 1:  Loss: 220949.8750 Validation Accuracy: 0.383000\n",
      "Epoch  3, CIFAR-10 Batch 1:  Loss: 64174.5391 Validation Accuracy: 0.407600\n",
      "Epoch  4, CIFAR-10 Batch 1:  Loss: 23494.6934 Validation Accuracy: 0.423800\n",
      "Epoch  5, CIFAR-10 Batch 1:  Loss:  9784.7002 Validation Accuracy: 0.468000\n",
      "Epoch  6, CIFAR-10 Batch 1:  Loss:  3622.7986 Validation Accuracy: 0.435800\n",
      "Epoch  7, CIFAR-10 Batch 1:  Loss:    50.3531 Validation Accuracy: 0.456400\n",
      "Epoch  8, CIFAR-10 Batch 1:  Loss:     0.0000 Validation Accuracy: 0.442600\n",
      "Epoch  9, CIFAR-10 Batch 1:  Loss:   501.4203 Validation Accuracy: 0.463800\n",
      "Epoch 10, CIFAR-10 Batch 1:  Loss:     0.0000 Validation Accuracy: 0.488400\n",
      "Epoch 11, CIFAR-10 Batch 1:  Loss:     0.0000 Validation Accuracy: 0.460400\n",
      "Epoch 12, CIFAR-10 Batch 1:  Loss:     0.0000 Validation Accuracy: 0.456000\n",
      "Epoch 13, CIFAR-10 Batch 1:  Loss:     0.0000 Validation Accuracy: 0.463800\n",
      "Epoch 14, CIFAR-10 Batch 1:  Loss:  4823.2593 Validation Accuracy: 0.440600\n",
      "Epoch 15, CIFAR-10 Batch 1:  Loss:     0.0000 Validation Accuracy: 0.490600\n",
      "Epoch 16, CIFAR-10 Batch 1:  Loss:     0.0000 Validation Accuracy: 0.480000\n",
      "Epoch 17, CIFAR-10 Batch 1:  Loss:     0.0000 Validation Accuracy: 0.479000\n",
      "Epoch 18, CIFAR-10 Batch 1:  Loss:  1821.6008 Validation Accuracy: 0.487400\n",
      "Epoch 19, CIFAR-10 Batch 1:  Loss:     0.0000 Validation Accuracy: 0.496600\n",
      "Epoch 20, CIFAR-10 Batch 1:  Loss:     0.0000 Validation Accuracy: 0.486800\n",
      "Epoch 21, CIFAR-10 Batch 1:  Loss:     0.0000 Validation Accuracy: 0.503800\n",
      "Epoch 22, CIFAR-10 Batch 1:  Loss:     0.0000 Validation Accuracy: 0.504200\n",
      "Epoch 23, CIFAR-10 Batch 1:  Loss:     0.0000 Validation Accuracy: 0.508800\n",
      "Epoch 24, CIFAR-10 Batch 1:  Loss:     0.0000 Validation Accuracy: 0.519000\n",
      "Epoch 25, CIFAR-10 Batch 1:  Loss:     0.0000 Validation Accuracy: 0.516800\n",
      "Epoch 26, CIFAR-10 Batch 1:  Loss:     0.0000 Validation Accuracy: 0.499400\n"
     ]
    }
   ],
   "source": [
    "\"\"\"\n",
    "DON'T MODIFY ANYTHING IN THIS CELL\n",
    "\"\"\"\n",
    "print('Checking the Training on a Single Batch...')\n",
    "with tf.Session() as sess:\n",
    "    # Initializing the variables\n",
    "    sess.run(tf.global_variables_initializer())\n",
    "    \n",
    "    # Training cycle\n",
    "    for epoch in range(epochs):\n",
    "        batch_i = 1\n",
    "        for batch_features, batch_labels in helper.load_preprocess_training_batch(batch_i, batch_size):\n",
    "            train_neural_network(sess, optimizer, keep_probability, batch_features, batch_labels)\n",
    "        print('Epoch {:>2}, CIFAR-10 Batch {}:  '.format(epoch + 1, batch_i), end='')\n",
    "        print_stats(sess, batch_features, batch_labels, cost, accuracy)"
   ]
  },
  {
   "cell_type": "markdown",
   "metadata": {
    "deletable": true,
    "editable": true
   },
   "source": [
    "### Fully Train the Model\n",
    "Now that you got a good accuracy with a single CIFAR-10 batch, try it with all five batches."
   ]
  },
  {
   "cell_type": "code",
   "execution_count": 20,
   "metadata": {
    "collapsed": false,
    "deletable": true,
    "editable": true
   },
   "outputs": [
    {
     "name": "stdout",
     "output_type": "stream",
     "text": [
      "Training...\n",
      "Epoch  1, CIFAR-10 Batch 1:  Loss: 721758.3125 Validation Accuracy: 0.340200\n",
      "Epoch  1, CIFAR-10 Batch 2:  Loss: 350498.6562 Validation Accuracy: 0.399400\n",
      "Epoch  1, CIFAR-10 Batch 3:  Loss: 216437.5625 Validation Accuracy: 0.410800\n",
      "Epoch  1, CIFAR-10 Batch 4:  Loss: 113886.8906 Validation Accuracy: 0.459800\n",
      "Epoch  1, CIFAR-10 Batch 5:  Loss: 136756.2031 Validation Accuracy: 0.468600\n",
      "Epoch  2, CIFAR-10 Batch 1:  Loss: 139030.0000 Validation Accuracy: 0.457400\n",
      "Epoch  2, CIFAR-10 Batch 2:  Loss: 66182.3906 Validation Accuracy: 0.470800\n",
      "Epoch  2, CIFAR-10 Batch 3:  Loss: 31421.7969 Validation Accuracy: 0.486400\n",
      "Epoch  2, CIFAR-10 Batch 4:  Loss: 38595.8164 Validation Accuracy: 0.492000\n",
      "Epoch  2, CIFAR-10 Batch 5:  Loss: 29475.6895 Validation Accuracy: 0.481200\n",
      "Epoch  3, CIFAR-10 Batch 1:  Loss: 42431.6680 Validation Accuracy: 0.498000\n",
      "Epoch  3, CIFAR-10 Batch 2:  Loss:  4082.2351 Validation Accuracy: 0.506000\n",
      "Epoch  3, CIFAR-10 Batch 3:  Loss:  8004.7598 Validation Accuracy: 0.487800\n",
      "Epoch  3, CIFAR-10 Batch 4:  Loss: 12134.1484 Validation Accuracy: 0.509200\n",
      "Epoch  3, CIFAR-10 Batch 5:  Loss: 17644.6230 Validation Accuracy: 0.496600\n",
      "Epoch  4, CIFAR-10 Batch 1:  Loss: 13714.9648 Validation Accuracy: 0.510800\n",
      "Epoch  4, CIFAR-10 Batch 2:  Loss:  3273.2192 Validation Accuracy: 0.522400\n",
      "Epoch  4, CIFAR-10 Batch 3:  Loss:  7077.6416 Validation Accuracy: 0.521600\n",
      "Epoch  4, CIFAR-10 Batch 4:  Loss:   268.8508 Validation Accuracy: 0.524600\n",
      "Epoch  4, CIFAR-10 Batch 5:  Loss:  3470.5679 Validation Accuracy: 0.517000\n",
      "Epoch  5, CIFAR-10 Batch 1:  Loss:  2798.3335 Validation Accuracy: 0.528800\n",
      "Epoch  5, CIFAR-10 Batch 2:  Loss:  1093.9834 Validation Accuracy: 0.520400\n",
      "Epoch  5, CIFAR-10 Batch 3:  Loss:  2446.4980 Validation Accuracy: 0.534200\n",
      "Epoch  5, CIFAR-10 Batch 4:  Loss:     0.0000 Validation Accuracy: 0.534200\n",
      "Epoch  5, CIFAR-10 Batch 5:  Loss:     0.0000 Validation Accuracy: 0.539200\n",
      "Epoch  6, CIFAR-10 Batch 1:  Loss:   919.9104 Validation Accuracy: 0.541800\n",
      "Epoch  6, CIFAR-10 Batch 2:  Loss:     0.0000 Validation Accuracy: 0.524600\n",
      "Epoch  6, CIFAR-10 Batch 3:  Loss:     0.0000 Validation Accuracy: 0.534200\n",
      "Epoch  6, CIFAR-10 Batch 4:  Loss:     0.0000 Validation Accuracy: 0.534600\n",
      "Epoch  6, CIFAR-10 Batch 5:  Loss:   882.6238 Validation Accuracy: 0.535000\n",
      "Epoch  7, CIFAR-10 Batch 1:  Loss:  1803.7430 Validation Accuracy: 0.536200\n",
      "Epoch  7, CIFAR-10 Batch 2:  Loss:     0.0000 Validation Accuracy: 0.533200\n",
      "Epoch  7, CIFAR-10 Batch 3:  Loss:   183.8539 Validation Accuracy: 0.544400\n",
      "Epoch  7, CIFAR-10 Batch 4:  Loss:     0.0000 Validation Accuracy: 0.540000\n",
      "Epoch  7, CIFAR-10 Batch 5:  Loss:   573.2670 Validation Accuracy: 0.551000\n",
      "Epoch  8, CIFAR-10 Batch 1:  Loss:  3560.9399 Validation Accuracy: 0.549400\n",
      "Epoch  8, CIFAR-10 Batch 2:  Loss:   485.3590 Validation Accuracy: 0.536400\n",
      "Epoch  8, CIFAR-10 Batch 3:  Loss:     0.0000 Validation Accuracy: 0.544800\n",
      "Epoch  8, CIFAR-10 Batch 4:  Loss:   148.4791 Validation Accuracy: 0.530000\n",
      "Epoch  8, CIFAR-10 Batch 5:  Loss:  1990.5220 Validation Accuracy: 0.548400\n",
      "Epoch  9, CIFAR-10 Batch 1:  Loss:  2250.3687 Validation Accuracy: 0.549600\n",
      "Epoch  9, CIFAR-10 Batch 2:  Loss:   379.8524 Validation Accuracy: 0.551000\n",
      "Epoch  9, CIFAR-10 Batch 3:  Loss:     0.0000 Validation Accuracy: 0.542800\n",
      "Epoch  9, CIFAR-10 Batch 4:  Loss:   678.8774 Validation Accuracy: 0.536400\n",
      "Epoch  9, CIFAR-10 Batch 5:  Loss:     0.0000 Validation Accuracy: 0.561600\n",
      "Epoch 10, CIFAR-10 Batch 1:  Loss:     0.0000 Validation Accuracy: 0.563200\n",
      "Epoch 10, CIFAR-10 Batch 2:  Loss:     0.0000 Validation Accuracy: 0.539000\n",
      "Epoch 10, CIFAR-10 Batch 3:  Loss:     0.0000 Validation Accuracy: 0.567400\n",
      "Epoch 10, CIFAR-10 Batch 4:  Loss:   117.0188 Validation Accuracy: 0.549200\n",
      "Epoch 10, CIFAR-10 Batch 5:  Loss:     0.0000 Validation Accuracy: 0.557000\n",
      "Epoch 11, CIFAR-10 Batch 1:  Loss:     0.0000 Validation Accuracy: 0.565400\n",
      "Epoch 11, CIFAR-10 Batch 2:  Loss:   176.6344 Validation Accuracy: 0.547400\n",
      "Epoch 11, CIFAR-10 Batch 3:  Loss:     0.0000 Validation Accuracy: 0.566000\n",
      "Epoch 11, CIFAR-10 Batch 4:  Loss:     0.0000 Validation Accuracy: 0.548000\n",
      "Epoch 11, CIFAR-10 Batch 5:  Loss:     0.0000 Validation Accuracy: 0.559600\n",
      "Epoch 12, CIFAR-10 Batch 1:  Loss:     0.0000 Validation Accuracy: 0.566000\n",
      "Epoch 12, CIFAR-10 Batch 2:  Loss:     0.0000 Validation Accuracy: 0.562800\n",
      "Epoch 12, CIFAR-10 Batch 3:  Loss:     0.0000 Validation Accuracy: 0.572200\n",
      "Epoch 12, CIFAR-10 Batch 4:  Loss:     0.0000 Validation Accuracy: 0.570200\n",
      "Epoch 12, CIFAR-10 Batch 5:  Loss:   297.0359 Validation Accuracy: 0.559800\n",
      "Epoch 13, CIFAR-10 Batch 1:  Loss:     0.0000 Validation Accuracy: 0.563800\n",
      "Epoch 13, CIFAR-10 Batch 2:  Loss:     0.0000 Validation Accuracy: 0.572800\n",
      "Epoch 13, CIFAR-10 Batch 3:  Loss:     0.0000 Validation Accuracy: 0.545600\n",
      "Epoch 13, CIFAR-10 Batch 4:  Loss:     0.0000 Validation Accuracy: 0.568600\n",
      "Epoch 13, CIFAR-10 Batch 5:  Loss:    99.4752 Validation Accuracy: 0.556200\n",
      "Epoch 14, CIFAR-10 Batch 1:  Loss:     0.0000 Validation Accuracy: 0.558400\n",
      "Epoch 14, CIFAR-10 Batch 2:  Loss:     0.0000 Validation Accuracy: 0.572000\n",
      "Epoch 14, CIFAR-10 Batch 3:  Loss:     0.0000 Validation Accuracy: 0.556800\n",
      "Epoch 14, CIFAR-10 Batch 4:  Loss:     0.0000 Validation Accuracy: 0.570600\n",
      "Epoch 14, CIFAR-10 Batch 5:  Loss:     0.0000 Validation Accuracy: 0.573000\n",
      "Epoch 15, CIFAR-10 Batch 1:  Loss:     0.0000 Validation Accuracy: 0.558800\n",
      "Epoch 15, CIFAR-10 Batch 2:  Loss:     0.0000 Validation Accuracy: 0.552800\n",
      "Epoch 15, CIFAR-10 Batch 3:  Loss:     0.0000 Validation Accuracy: 0.569000\n",
      "Epoch 15, CIFAR-10 Batch 4:  Loss:     0.0000 Validation Accuracy: 0.562600\n",
      "Epoch 15, CIFAR-10 Batch 5:  Loss:     0.0000 Validation Accuracy: 0.570400\n",
      "Epoch 16, CIFAR-10 Batch 1:  Loss:     0.0000 Validation Accuracy: 0.554400\n",
      "Epoch 16, CIFAR-10 Batch 2:  Loss:     0.0000 Validation Accuracy: 0.559200\n",
      "Epoch 16, CIFAR-10 Batch 3:  Loss:     0.0000 Validation Accuracy: 0.574400\n",
      "Epoch 16, CIFAR-10 Batch 4:  Loss:    11.6684 Validation Accuracy: 0.565000\n",
      "Epoch 16, CIFAR-10 Batch 5:  Loss:     0.0000 Validation Accuracy: 0.565000\n",
      "Epoch 17, CIFAR-10 Batch 1:  Loss:     0.0000 Validation Accuracy: 0.567800\n",
      "Epoch 17, CIFAR-10 Batch 2:  Loss:     0.0000 Validation Accuracy: 0.573800\n",
      "Epoch 17, CIFAR-10 Batch 3:  Loss:     0.0000 Validation Accuracy: 0.571600\n",
      "Epoch 17, CIFAR-10 Batch 4:  Loss:     0.0000 Validation Accuracy: 0.561200\n",
      "Epoch 17, CIFAR-10 Batch 5:  Loss:     0.0000 Validation Accuracy: 0.567800\n",
      "Epoch 18, CIFAR-10 Batch 1:  Loss:   465.4100 Validation Accuracy: 0.577800\n",
      "Epoch 18, CIFAR-10 Batch 2:  Loss:     0.0000 Validation Accuracy: 0.566000\n",
      "Epoch 18, CIFAR-10 Batch 3:  Loss:     0.0000 Validation Accuracy: 0.576200\n",
      "Epoch 18, CIFAR-10 Batch 4:  Loss:     0.0000 Validation Accuracy: 0.579600\n",
      "Epoch 18, CIFAR-10 Batch 5:  Loss:     0.0000 Validation Accuracy: 0.579800\n",
      "Epoch 19, CIFAR-10 Batch 1:  Loss:     0.0000 Validation Accuracy: 0.574400\n",
      "Epoch 19, CIFAR-10 Batch 2:  Loss:     0.0000 Validation Accuracy: 0.572800\n",
      "Epoch 19, CIFAR-10 Batch 3:  Loss:     0.0000 Validation Accuracy: 0.581800\n",
      "Epoch 19, CIFAR-10 Batch 4:  Loss:     0.0000 Validation Accuracy: 0.579400\n",
      "Epoch 19, CIFAR-10 Batch 5:  Loss:     0.0000 Validation Accuracy: 0.574400\n",
      "Epoch 20, CIFAR-10 Batch 1:  Loss:   228.1656 Validation Accuracy: 0.566600\n",
      "Epoch 20, CIFAR-10 Batch 2:  Loss:     0.0000 Validation Accuracy: 0.574800\n",
      "Epoch 20, CIFAR-10 Batch 3:  Loss:     0.0000 Validation Accuracy: 0.576200\n",
      "Epoch 20, CIFAR-10 Batch 4:  Loss:     0.0000 Validation Accuracy: 0.570400\n",
      "Epoch 20, CIFAR-10 Batch 5:  Loss:     0.0000 Validation Accuracy: 0.584800\n",
      "Epoch 21, CIFAR-10 Batch 1:  Loss:     0.0000 Validation Accuracy: 0.562400\n",
      "Epoch 21, CIFAR-10 Batch 2:  Loss:     0.0000 Validation Accuracy: 0.578800\n",
      "Epoch 21, CIFAR-10 Batch 3:  Loss:   192.8006 Validation Accuracy: 0.581800\n",
      "Epoch 21, CIFAR-10 Batch 4:  Loss:     0.0000 Validation Accuracy: 0.579800\n",
      "Epoch 21, CIFAR-10 Batch 5:  Loss:     0.0000 Validation Accuracy: 0.575200\n",
      "Epoch 22, CIFAR-10 Batch 1:  Loss:     0.0000 Validation Accuracy: 0.578600\n",
      "Epoch 22, CIFAR-10 Batch 2:  Loss:     0.0000 Validation Accuracy: 0.584400\n",
      "Epoch 22, CIFAR-10 Batch 3:  Loss:     0.0000 Validation Accuracy: 0.580800\n",
      "Epoch 22, CIFAR-10 Batch 4:  Loss:    49.7982 Validation Accuracy: 0.577800\n",
      "Epoch 22, CIFAR-10 Batch 5:  Loss:     0.0000 Validation Accuracy: 0.581000\n",
      "Epoch 23, CIFAR-10 Batch 1:  Loss:     0.0000 Validation Accuracy: 0.576800\n",
      "Epoch 23, CIFAR-10 Batch 2:  Loss:     0.0000 Validation Accuracy: 0.580600\n",
      "Epoch 23, CIFAR-10 Batch 3:  Loss:     0.0000 Validation Accuracy: 0.581000\n",
      "Epoch 23, CIFAR-10 Batch 4:  Loss:     0.0000 Validation Accuracy: 0.576000\n",
      "Epoch 23, CIFAR-10 Batch 5:  Loss:     0.0000 Validation Accuracy: 0.569400\n",
      "Epoch 24, CIFAR-10 Batch 1:  Loss:     0.0000 Validation Accuracy: 0.561200\n",
      "Epoch 24, CIFAR-10 Batch 2:  Loss:     0.0000 Validation Accuracy: 0.579800\n",
      "Epoch 24, CIFAR-10 Batch 3:  Loss:     0.0000 Validation Accuracy: 0.572800\n",
      "Epoch 24, CIFAR-10 Batch 4:  Loss:     0.0000 Validation Accuracy: 0.581800\n",
      "Epoch 24, CIFAR-10 Batch 5:  Loss:     0.0000 Validation Accuracy: 0.578400\n",
      "Epoch 25, CIFAR-10 Batch 1:  Loss:     0.0000 Validation Accuracy: 0.577800\n",
      "Epoch 25, CIFAR-10 Batch 2:  Loss:     0.0000 Validation Accuracy: 0.578400\n",
      "Epoch 25, CIFAR-10 Batch 3:  Loss:     0.0000 Validation Accuracy: 0.576000\n",
      "Epoch 25, CIFAR-10 Batch 4:  Loss:     0.0000 Validation Accuracy: 0.591000\n",
      "Epoch 25, CIFAR-10 Batch 5:  Loss:     0.0000 Validation Accuracy: 0.584200\n",
      "Epoch 26, CIFAR-10 Batch 1:  Loss:     0.0000 Validation Accuracy: 0.580800\n",
      "Epoch 26, CIFAR-10 Batch 2:  Loss:     0.0000 Validation Accuracy: 0.562800\n",
      "Epoch 26, CIFAR-10 Batch 3:  Loss:     0.0000 Validation Accuracy: 0.576600\n",
      "Epoch 26, CIFAR-10 Batch 4:  Loss:     0.0000 Validation Accuracy: 0.582800\n",
      "Epoch 26, CIFAR-10 Batch 5:  Loss:     0.0000 Validation Accuracy: 0.584800\n"
     ]
    }
   ],
   "source": [
    "\"\"\"\n",
    "DON'T MODIFY ANYTHING IN THIS CELL\n",
    "\"\"\"\n",
    "save_model_path = './image_classification'\n",
    "\n",
    "print('Training...')\n",
    "with tf.Session() as sess:\n",
    "    # Initializing the variables\n",
    "    sess.run(tf.global_variables_initializer())\n",
    "    \n",
    "    # Training cycle\n",
    "    for epoch in range(epochs):\n",
    "        # Loop over all batches\n",
    "        n_batches = 5\n",
    "        for batch_i in range(1, n_batches + 1):\n",
    "            for batch_features, batch_labels in helper.load_preprocess_training_batch(batch_i, batch_size):\n",
    "                train_neural_network(sess, optimizer, keep_probability, batch_features, batch_labels)\n",
    "            print('Epoch {:>2}, CIFAR-10 Batch {}:  '.format(epoch + 1, batch_i), end='')\n",
    "            print_stats(sess, batch_features, batch_labels, cost, accuracy)\n",
    "            \n",
    "    # Save Model\n",
    "    saver = tf.train.Saver()\n",
    "    save_path = saver.save(sess, save_model_path)"
   ]
  },
  {
   "cell_type": "markdown",
   "metadata": {
    "deletable": true,
    "editable": true
   },
   "source": [
    "# Checkpoint\n",
    "The model has been saved to disk.\n",
    "## Test Model\n",
    "Test your model against the test dataset.  This will be your final accuracy. You should have an accuracy greater than 50%. If you don't, keep tweaking the model architecture and parameters."
   ]
  },
  {
   "cell_type": "code",
   "execution_count": 21,
   "metadata": {
    "collapsed": false,
    "deletable": true,
    "editable": true
   },
   "outputs": [
    {
     "name": "stdout",
     "output_type": "stream",
     "text": [
      "Testing Accuracy: 0.59228515625\n",
      "\n"
     ]
    },
    {
     "data": {
      "image/png": "[encoded data removed]",
      "text/plain": [
       "<matplotlib.figure.Figure at 0x7f2faa0873c8>"
      ]
     },
     "metadata": {
      "image/png": {
       "height": 319,
       "width": 349
      }
     },
     "output_type": "display_data"
    }
   ],
   "source": [
    "\"\"\"\n",
    "DON'T MODIFY ANYTHING IN THIS CELL\n",
    "\"\"\"\n",
    "%matplotlib inline\n",
    "%config InlineBackend.figure_format = 'retina'\n",
    "\n",
    "import tensorflow as tf\n",
    "import pickle\n",
    "import helper\n",
    "import random\n",
    "\n",
    "# Set batch size if not already set\n",
    "try:\n",
    "    if batch_size:\n",
    "        pass\n",
    "except NameError:\n",
    "    batch_size = 64\n",
    "\n",
    "save_model_path = './image_classification'\n",
    "n_samples = 4\n",
    "top_n_predictions = 3\n",
    "\n",
    "def test_model():\n",
    "    \"\"\"\n",
    "    Test the saved model against the test dataset\n",
    "    \"\"\"\n",
    "\n",
    "    test_features, test_labels = pickle.load(open('preprocess_training.p', mode='rb'))\n",
    "    loaded_graph = tf.Graph()\n",
    "\n",
    "    with tf.Session(graph=loaded_graph) as sess:\n",
    "        # Load model\n",
    "        loader = tf.train.import_meta_graph(save_model_path + '.meta')\n",
    "        loader.restore(sess, save_model_path)\n",
    "\n",
    "        # Get Tensors from loaded model\n",
    "        loaded_x = loaded_graph.get_tensor_by_name('x:0')\n",
    "        loaded_y = loaded_graph.get_tensor_by_name('y:0')\n",
    "        loaded_keep_prob = loaded_graph.get_tensor_by_name('keep_prob:0')\n",
    "        loaded_logits = loaded_graph.get_tensor_by_name('logits:0')\n",
    "        loaded_acc = loaded_graph.get_tensor_by_name('accuracy:0')\n",
    "        \n",
    "        # Get accuracy in batches for memory limitations\n",
    "        test_batch_acc_total = 0\n",
    "        test_batch_count = 0\n",
    "        \n",
    "        for train_feature_batch, train_label_batch in helper.batch_features_labels(test_features, test_labels, batch_size):\n",
    "            test_batch_acc_total += sess.run(\n",
    "                loaded_acc,\n",
    "                feed_dict={loaded_x: train_feature_batch, loaded_y: train_label_batch, loaded_keep_prob: 1.0})\n",
    "            test_batch_count += 1\n",
    "\n",
    "        print('Testing Accuracy: {}\\n'.format(test_batch_acc_total/test_batch_count))\n",
    "\n",
    "        # Print Random Samples\n",
    "        random_test_features, random_test_labels = tuple(zip(*random.sample(list(zip(test_features, test_labels)), n_samples)))\n",
    "        random_test_predictions = sess.run(\n",
    "            tf.nn.top_k(tf.nn.softmax(loaded_logits), top_n_predictions),\n",
    "            feed_dict={loaded_x: random_test_features, loaded_y: random_test_labels, loaded_keep_prob: 1.0})\n",
    "        helper.display_image_predictions(random_test_features, random_test_labels, random_test_predictions)\n",
    "\n",
    "\n",
    "test_model()"
   ]
  },
  {
   "cell_type": "markdown",
   "metadata": {
    "deletable": true,
    "editable": true
   },
   "source": [
    "## Why 50-70% Accuracy?\n",
    "You might be wondering why you can't get an accuracy any higher. First things first, 50% isn't bad for a simple CNN.  Pure guessing would get you 10% accuracy. However, you might notice people are getting scores [well above 70%](http://rodrigob.github.io/are_we_there_yet/build/classification_datasets_results.html#43494641522d3130).  That's because we haven't taught you all there is to know about neural networks. We still need to cover a few more techniques.\n",
    "## Submitting This Project\n",
    "When submitting this project, make sure to run all the cells before saving the notebook.  Save the notebook file as \"dlnd_image_classification.ipynb\" and save it as a HTML file under \"File\" -> \"Download as\".  Include the \"helper.py\" and \"problem_unittests.py\" files in your submission."
   ]
  }
 ],
 "metadata": {
  "kernelspec": {
   "display_name": "Python 3",
   "language": "python",
   "name": "python3"
  },
  "language_info": {
   "codemirror_mode": {
    "name": "ipython",
    "version": 3
   },
   "file_extension": ".py",
   "mimetype": "text/x-python",
   "name": "python",
   "nbconvert_exporter": "python",
   "pygments_lexer": "ipython3",
   "version": "3.5.3"
  }
 },
 "nbformat": 4,
 "nbformat_minor": 0
}
